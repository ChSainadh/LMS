{
  "cells": [
    {
      "cell_type": "markdown",
      "id": "b440a6e6",
      "metadata": {
        "papermill": {
          "duration": 0.015558,
          "end_time": "2022-06-12T07:51:53.677178",
          "exception": false,
          "start_time": "2022-06-12T07:51:53.661620",
          "status": "completed"
        },
        "tags": [],
        "id": "b440a6e6"
      },
      "source": [
        "# Importing and Preprocessing"
      ]
    },
    {
      "cell_type": "code",
      "execution_count": null,
      "id": "efbeddb1",
      "metadata": {
        "execution": {
          "iopub.execute_input": "2022-06-12T07:51:53.711063Z",
          "iopub.status.busy": "2022-06-12T07:51:53.710380Z",
          "iopub.status.idle": "2022-06-12T07:51:53.731897Z",
          "shell.execute_reply": "2022-06-12T07:51:53.730926Z"
        },
        "papermill": {
          "duration": 0.041781,
          "end_time": "2022-06-12T07:51:53.734813",
          "exception": false,
          "start_time": "2022-06-12T07:51:53.693032",
          "status": "completed"
        },
        "tags": [],
        "id": "efbeddb1"
      },
      "outputs": [],
      "source": [
        "import numpy as np # linear algebra\n",
        "import pandas as pd # data processing, CSV file I/O (e.g. pd.read_csv)\n",
        "\n",
        "import os\n",
        "for dirname, _, filenames in os.walk('/kaggle/input'):\n",
        "    for filename in filenames:\n",
        "        print(os.path.join(dirname, filename))"
      ]
    },
    {
      "cell_type": "code",
      "source": [
        "from google.colab import drive\n",
        "drive.mount('/content/drive')"
      ],
      "metadata": {
        "colab": {
          "base_uri": "https://localhost:8080/"
        },
        "id": "pLVkSObMC4dH",
        "outputId": "25bfb27e-8610-4ae7-a2b1-30796d78ec6a"
      },
      "id": "pLVkSObMC4dH",
      "execution_count": null,
      "outputs": [
        {
          "output_type": "stream",
          "name": "stdout",
          "text": [
            "Mounted at /content/drive\n"
          ]
        }
      ]
    },
    {
      "cell_type": "code",
      "execution_count": null,
      "id": "73466821",
      "metadata": {
        "execution": {
          "iopub.execute_input": "2022-06-12T07:51:53.769882Z",
          "iopub.status.busy": "2022-06-12T07:51:53.769159Z",
          "iopub.status.idle": "2022-06-12T07:52:00.868703Z",
          "shell.execute_reply": "2022-06-12T07:52:00.867446Z"
        },
        "papermill": {
          "duration": 7.119883,
          "end_time": "2022-06-12T07:52:00.871140",
          "exception": false,
          "start_time": "2022-06-12T07:51:53.751257",
          "status": "completed"
        },
        "tags": [],
        "id": "73466821"
      },
      "outputs": [],
      "source": [
        "import matplotlib.pyplot as plt\n",
        "import seaborn as sns\n",
        "%matplotlib inline\n",
        "\n",
        "import warnings\n",
        "warnings.filterwarnings(\"ignore\")\n",
        "\n",
        "import datetime\n",
        "\n",
        "import math\n",
        "from sklearn.preprocessing import MinMaxScaler\n",
        "\n",
        "from tqdm import tqdm\n",
        "plt.style.use(\"fivethirtyeight\")\n",
        "from keras.models import Sequential\n",
        "from keras.layers import Dense, LSTM, Dropout, Bidirectional, GRU"
      ]
    },
    {
      "cell_type": "code",
      "execution_count": null,
      "id": "c85179da",
      "metadata": {
        "execution": {
          "iopub.execute_input": "2022-06-12T07:52:00.893064Z",
          "iopub.status.busy": "2022-06-12T07:52:00.892440Z",
          "iopub.status.idle": "2022-06-12T07:52:00.947209Z",
          "shell.execute_reply": "2022-06-12T07:52:00.945760Z"
        },
        "papermill": {
          "duration": 0.068184,
          "end_time": "2022-06-12T07:52:00.949790",
          "exception": false,
          "start_time": "2022-06-12T07:52:00.881606",
          "status": "completed"
        },
        "tags": [],
        "id": "c85179da"
      },
      "outputs": [],
      "source": [
        "path = '/content/drive/MyDrive/air-quality-india.csv'\n",
        "df=pd.read_csv(path)"
      ]
    },
    {
      "cell_type": "code",
      "execution_count": null,
      "id": "6e26951e",
      "metadata": {
        "execution": {
          "iopub.execute_input": "2022-06-12T07:52:00.985349Z",
          "iopub.status.busy": "2022-06-12T07:52:00.984648Z",
          "iopub.status.idle": "2022-06-12T07:52:01.017352Z",
          "shell.execute_reply": "2022-06-12T07:52:01.015560Z"
        },
        "papermill": {
          "duration": 0.053439,
          "end_time": "2022-06-12T07:52:01.020233",
          "exception": false,
          "start_time": "2022-06-12T07:52:00.966794",
          "status": "completed"
        },
        "tags": [],
        "colab": {
          "base_uri": "https://localhost:8080/"
        },
        "id": "6e26951e",
        "outputId": "ecc276bb-364e-457b-8bc2-e142244f3aab"
      },
      "outputs": [
        {
          "output_type": "stream",
          "name": "stdout",
          "text": [
            "<class 'pandas.core.frame.DataFrame'>\n",
            "RangeIndex: 36192 entries, 0 to 36191\n",
            "Data columns (total 6 columns):\n",
            " #   Column     Non-Null Count  Dtype  \n",
            "---  ------     --------------  -----  \n",
            " 0   Timestamp  36192 non-null  object \n",
            " 1   Year       36192 non-null  int64  \n",
            " 2   Month      36192 non-null  int64  \n",
            " 3   Day        36192 non-null  int64  \n",
            " 4   Hour       36192 non-null  int64  \n",
            " 5   PM2.5      36192 non-null  float64\n",
            "dtypes: float64(1), int64(4), object(1)\n",
            "memory usage: 1.7+ MB\n"
          ]
        }
      ],
      "source": [
        "df.info()"
      ]
    },
    {
      "cell_type": "code",
      "execution_count": null,
      "id": "72653478",
      "metadata": {
        "execution": {
          "iopub.execute_input": "2022-06-12T07:52:01.055365Z",
          "iopub.status.busy": "2022-06-12T07:52:01.054667Z",
          "iopub.status.idle": "2022-06-12T07:52:01.068096Z",
          "shell.execute_reply": "2022-06-12T07:52:01.067024Z"
        },
        "papermill": {
          "duration": 0.033586,
          "end_time": "2022-06-12T07:52:01.070758",
          "exception": false,
          "start_time": "2022-06-12T07:52:01.037172",
          "status": "completed"
        },
        "tags": [],
        "id": "72653478"
      },
      "outputs": [],
      "source": [
        "df[\"Timestamp\"] = pd.to_datetime(df[\"Timestamp\"])"
      ]
    },
    {
      "cell_type": "code",
      "execution_count": null,
      "id": "b22bd6f9",
      "metadata": {
        "execution": {
          "iopub.execute_input": "2022-06-12T07:52:01.104853Z",
          "iopub.status.busy": "2022-06-12T07:52:01.104240Z",
          "iopub.status.idle": "2022-06-12T07:52:01.121293Z",
          "shell.execute_reply": "2022-06-12T07:52:01.120327Z"
        },
        "papermill": {
          "duration": 0.036369,
          "end_time": "2022-06-12T07:52:01.123808",
          "exception": false,
          "start_time": "2022-06-12T07:52:01.087439",
          "status": "completed"
        },
        "tags": [],
        "colab": {
          "base_uri": "https://localhost:8080/",
          "height": 206
        },
        "id": "b22bd6f9",
        "outputId": "e481d6f6-07f6-4b89-c13a-bd6e7fd392e8"
      },
      "outputs": [
        {
          "output_type": "execute_result",
          "data": {
            "text/plain": [
              "            Timestamp  Year  Month  Day  Hour   PM2.5\n",
              "0 2017-11-07 12:00:00  2017     11    7    12   64.51\n",
              "1 2017-11-07 13:00:00  2017     11    7    13   69.95\n",
              "2 2017-11-07 14:00:00  2017     11    7    14   92.79\n",
              "3 2017-11-07 15:00:00  2017     11    7    15  109.66\n",
              "4 2017-11-07 16:00:00  2017     11    7    16  116.50"
            ],
            "text/html": [
              "\n",
              "  <div id=\"df-a03aa5f2-bf84-4e85-b634-3205c0faa802\">\n",
              "    <div class=\"colab-df-container\">\n",
              "      <div>\n",
              "<style scoped>\n",
              "    .dataframe tbody tr th:only-of-type {\n",
              "        vertical-align: middle;\n",
              "    }\n",
              "\n",
              "    .dataframe tbody tr th {\n",
              "        vertical-align: top;\n",
              "    }\n",
              "\n",
              "    .dataframe thead th {\n",
              "        text-align: right;\n",
              "    }\n",
              "</style>\n",
              "<table border=\"1\" class=\"dataframe\">\n",
              "  <thead>\n",
              "    <tr style=\"text-align: right;\">\n",
              "      <th></th>\n",
              "      <th>Timestamp</th>\n",
              "      <th>Year</th>\n",
              "      <th>Month</th>\n",
              "      <th>Day</th>\n",
              "      <th>Hour</th>\n",
              "      <th>PM2.5</th>\n",
              "    </tr>\n",
              "  </thead>\n",
              "  <tbody>\n",
              "    <tr>\n",
              "      <th>0</th>\n",
              "      <td>2017-11-07 12:00:00</td>\n",
              "      <td>2017</td>\n",
              "      <td>11</td>\n",
              "      <td>7</td>\n",
              "      <td>12</td>\n",
              "      <td>64.51</td>\n",
              "    </tr>\n",
              "    <tr>\n",
              "      <th>1</th>\n",
              "      <td>2017-11-07 13:00:00</td>\n",
              "      <td>2017</td>\n",
              "      <td>11</td>\n",
              "      <td>7</td>\n",
              "      <td>13</td>\n",
              "      <td>69.95</td>\n",
              "    </tr>\n",
              "    <tr>\n",
              "      <th>2</th>\n",
              "      <td>2017-11-07 14:00:00</td>\n",
              "      <td>2017</td>\n",
              "      <td>11</td>\n",
              "      <td>7</td>\n",
              "      <td>14</td>\n",
              "      <td>92.79</td>\n",
              "    </tr>\n",
              "    <tr>\n",
              "      <th>3</th>\n",
              "      <td>2017-11-07 15:00:00</td>\n",
              "      <td>2017</td>\n",
              "      <td>11</td>\n",
              "      <td>7</td>\n",
              "      <td>15</td>\n",
              "      <td>109.66</td>\n",
              "    </tr>\n",
              "    <tr>\n",
              "      <th>4</th>\n",
              "      <td>2017-11-07 16:00:00</td>\n",
              "      <td>2017</td>\n",
              "      <td>11</td>\n",
              "      <td>7</td>\n",
              "      <td>16</td>\n",
              "      <td>116.50</td>\n",
              "    </tr>\n",
              "  </tbody>\n",
              "</table>\n",
              "</div>\n",
              "      <button class=\"colab-df-convert\" onclick=\"convertToInteractive('df-a03aa5f2-bf84-4e85-b634-3205c0faa802')\"\n",
              "              title=\"Convert this dataframe to an interactive table.\"\n",
              "              style=\"display:none;\">\n",
              "        \n",
              "  <svg xmlns=\"http://www.w3.org/2000/svg\" height=\"24px\"viewBox=\"0 0 24 24\"\n",
              "       width=\"24px\">\n",
              "    <path d=\"M0 0h24v24H0V0z\" fill=\"none\"/>\n",
              "    <path d=\"M18.56 5.44l.94 2.06.94-2.06 2.06-.94-2.06-.94-.94-2.06-.94 2.06-2.06.94zm-11 1L8.5 8.5l.94-2.06 2.06-.94-2.06-.94L8.5 2.5l-.94 2.06-2.06.94zm10 10l.94 2.06.94-2.06 2.06-.94-2.06-.94-.94-2.06-.94 2.06-2.06.94z\"/><path d=\"M17.41 7.96l-1.37-1.37c-.4-.4-.92-.59-1.43-.59-.52 0-1.04.2-1.43.59L10.3 9.45l-7.72 7.72c-.78.78-.78 2.05 0 2.83L4 21.41c.39.39.9.59 1.41.59.51 0 1.02-.2 1.41-.59l7.78-7.78 2.81-2.81c.8-.78.8-2.07 0-2.86zM5.41 20L4 18.59l7.72-7.72 1.47 1.35L5.41 20z\"/>\n",
              "  </svg>\n",
              "      </button>\n",
              "      \n",
              "  <style>\n",
              "    .colab-df-container {\n",
              "      display:flex;\n",
              "      flex-wrap:wrap;\n",
              "      gap: 12px;\n",
              "    }\n",
              "\n",
              "    .colab-df-convert {\n",
              "      background-color: #E8F0FE;\n",
              "      border: none;\n",
              "      border-radius: 50%;\n",
              "      cursor: pointer;\n",
              "      display: none;\n",
              "      fill: #1967D2;\n",
              "      height: 32px;\n",
              "      padding: 0 0 0 0;\n",
              "      width: 32px;\n",
              "    }\n",
              "\n",
              "    .colab-df-convert:hover {\n",
              "      background-color: #E2EBFA;\n",
              "      box-shadow: 0px 1px 2px rgba(60, 64, 67, 0.3), 0px 1px 3px 1px rgba(60, 64, 67, 0.15);\n",
              "      fill: #174EA6;\n",
              "    }\n",
              "\n",
              "    [theme=dark] .colab-df-convert {\n",
              "      background-color: #3B4455;\n",
              "      fill: #D2E3FC;\n",
              "    }\n",
              "\n",
              "    [theme=dark] .colab-df-convert:hover {\n",
              "      background-color: #434B5C;\n",
              "      box-shadow: 0px 1px 3px 1px rgba(0, 0, 0, 0.15);\n",
              "      filter: drop-shadow(0px 1px 2px rgba(0, 0, 0, 0.3));\n",
              "      fill: #FFFFFF;\n",
              "    }\n",
              "  </style>\n",
              "\n",
              "      <script>\n",
              "        const buttonEl =\n",
              "          document.querySelector('#df-a03aa5f2-bf84-4e85-b634-3205c0faa802 button.colab-df-convert');\n",
              "        buttonEl.style.display =\n",
              "          google.colab.kernel.accessAllowed ? 'block' : 'none';\n",
              "\n",
              "        async function convertToInteractive(key) {\n",
              "          const element = document.querySelector('#df-a03aa5f2-bf84-4e85-b634-3205c0faa802');\n",
              "          const dataTable =\n",
              "            await google.colab.kernel.invokeFunction('convertToInteractive',\n",
              "                                                     [key], {});\n",
              "          if (!dataTable) return;\n",
              "\n",
              "          const docLinkHtml = 'Like what you see? Visit the ' +\n",
              "            '<a target=\"_blank\" href=https://colab.research.google.com/notebooks/data_table.ipynb>data table notebook</a>'\n",
              "            + ' to learn more about interactive tables.';\n",
              "          element.innerHTML = '';\n",
              "          dataTable['output_type'] = 'display_data';\n",
              "          await google.colab.output.renderOutput(dataTable, element);\n",
              "          const docLink = document.createElement('div');\n",
              "          docLink.innerHTML = docLinkHtml;\n",
              "          element.appendChild(docLink);\n",
              "        }\n",
              "      </script>\n",
              "    </div>\n",
              "  </div>\n",
              "  "
            ]
          },
          "metadata": {},
          "execution_count": 7
        }
      ],
      "source": [
        "df.head()"
      ]
    },
    {
      "cell_type": "code",
      "execution_count": null,
      "id": "31a4169e",
      "metadata": {
        "execution": {
          "iopub.execute_input": "2022-06-12T07:52:01.159924Z",
          "iopub.status.busy": "2022-06-12T07:52:01.159440Z",
          "iopub.status.idle": "2022-06-12T07:52:01.183376Z",
          "shell.execute_reply": "2022-06-12T07:52:01.182662Z"
        },
        "papermill": {
          "duration": 0.045038,
          "end_time": "2022-06-12T07:52:01.185923",
          "exception": false,
          "start_time": "2022-06-12T07:52:01.140885",
          "status": "completed"
        },
        "tags": [],
        "id": "31a4169e"
      },
      "outputs": [],
      "source": [
        "df['Date']=df[\"Timestamp\"].dt.date"
      ]
    },
    {
      "cell_type": "markdown",
      "id": "4d224514",
      "metadata": {
        "papermill": {
          "duration": 0.015908,
          "end_time": "2022-06-12T07:52:01.218485",
          "exception": false,
          "start_time": "2022-06-12T07:52:01.202577",
          "status": "completed"
        },
        "tags": [],
        "id": "4d224514"
      },
      "source": [
        "# Visualization"
      ]
    },
    {
      "cell_type": "markdown",
      "id": "3d9e8389",
      "metadata": {
        "papermill": {
          "duration": 0.016111,
          "end_time": "2022-06-12T07:52:01.250982",
          "exception": false,
          "start_time": "2022-06-12T07:52:01.234871",
          "status": "completed"
        },
        "tags": [],
        "id": "3d9e8389"
      },
      "source": [
        "* Time series by days"
      ]
    },
    {
      "cell_type": "code",
      "execution_count": null,
      "id": "0a49430a",
      "metadata": {
        "execution": {
          "iopub.execute_input": "2022-06-12T07:52:01.286625Z",
          "iopub.status.busy": "2022-06-12T07:52:01.285916Z",
          "iopub.status.idle": "2022-06-12T07:52:01.775097Z",
          "shell.execute_reply": "2022-06-12T07:52:01.774280Z"
        },
        "papermill": {
          "duration": 0.509994,
          "end_time": "2022-06-12T07:52:01.777360",
          "exception": false,
          "start_time": "2022-06-12T07:52:01.267366",
          "status": "completed"
        },
        "tags": [],
        "colab": {
          "base_uri": "https://localhost:8080/",
          "height": 417
        },
        "id": "0a49430a",
        "outputId": "6785c9db-cae5-4ef7-843f-6806dd2574c7"
      },
      "outputs": [
        {
          "output_type": "display_data",
          "data": {
            "text/plain": [
              "<Figure size 1440x576 with 1 Axes>"
            ],
            "image/png": "[encoded data removed]"
          },
          "metadata": {}
        }
      ],
      "source": [
        "df.plot(x='Timestamp',y='PM2.5',figsize=(20,8))\n",
        "plt.xticks(rotation=45)\n",
        "\n",
        "plt.show()"
      ]
    },
    {
      "cell_type": "markdown",
      "id": "80be27e2",
      "metadata": {
        "papermill": {
          "duration": 0.016455,
          "end_time": "2022-06-12T07:52:01.810928",
          "exception": false,
          "start_time": "2022-06-12T07:52:01.794473",
          "status": "completed"
        },
        "tags": [],
        "id": "80be27e2"
      },
      "source": [
        "* Time series by year average"
      ]
    },
    {
      "cell_type": "code",
      "execution_count": null,
      "id": "b2d0013f",
      "metadata": {
        "execution": {
          "iopub.execute_input": "2022-06-12T07:52:01.846771Z",
          "iopub.status.busy": "2022-06-12T07:52:01.846045Z",
          "iopub.status.idle": "2022-06-12T07:52:01.999549Z",
          "shell.execute_reply": "2022-06-12T07:52:01.998874Z"
        },
        "papermill": {
          "duration": 0.174304,
          "end_time": "2022-06-12T07:52:02.001955",
          "exception": false,
          "start_time": "2022-06-12T07:52:01.827651",
          "status": "completed"
        },
        "tags": [],
        "colab": {
          "base_uri": "https://localhost:8080/",
          "height": 322
        },
        "id": "b2d0013f",
        "outputId": "8def82b2-99c5-45ca-cf8a-1aed886169aa"
      },
      "outputs": [
        {
          "output_type": "execute_result",
          "data": {
            "text/plain": [
              "<matplotlib.axes._subplots.AxesSubplot at 0x7f9c46764c90>"
            ]
          },
          "metadata": {},
          "execution_count": 10
        },
        {
          "output_type": "display_data",
          "data": {
            "text/plain": [
              "<Figure size 432x288 with 1 Axes>"
            ],
            "image/png": "[encoded data removed]"
          },
          "metadata": {}
        }
      ],
      "source": [
        "df.groupby('Year')['PM2.5'].mean().plot()"
      ]
    },
    {
      "cell_type": "markdown",
      "id": "adfd9292",
      "metadata": {
        "papermill": {
          "duration": 0.01701,
          "end_time": "2022-06-12T07:52:02.036672",
          "exception": false,
          "start_time": "2022-06-12T07:52:02.019662",
          "status": "completed"
        },
        "tags": [],
        "id": "adfd9292"
      },
      "source": [
        "* Boxplot by year"
      ]
    },
    {
      "cell_type": "code",
      "execution_count": null,
      "id": "e8f96e2a",
      "metadata": {
        "execution": {
          "iopub.execute_input": "2022-06-12T07:52:02.073219Z",
          "iopub.status.busy": "2022-06-12T07:52:02.072563Z",
          "iopub.status.idle": "2022-06-12T07:52:02.279092Z",
          "shell.execute_reply": "2022-06-12T07:52:02.278016Z"
        },
        "papermill": {
          "duration": 0.228061,
          "end_time": "2022-06-12T07:52:02.281950",
          "exception": false,
          "start_time": "2022-06-12T07:52:02.053889",
          "status": "completed"
        },
        "tags": [],
        "colab": {
          "base_uri": "https://localhost:8080/",
          "height": 322
        },
        "id": "e8f96e2a",
        "outputId": "8e2b40ee-f9e3-463a-a994-a7fffbf77781"
      },
      "outputs": [
        {
          "output_type": "execute_result",
          "data": {
            "text/plain": [
              "<matplotlib.axes._subplots.AxesSubplot at 0x7f9c466f2590>"
            ]
          },
          "metadata": {},
          "execution_count": 11
        },
        {
          "output_type": "display_data",
          "data": {
            "text/plain": [
              "<Figure size 432x288 with 1 Axes>"
            ],
            "image/png": "[encoded data removed]"
          },
          "metadata": {}
        }
      ],
      "source": [
        "df_year=df.loc[:,['Year','PM2.5']]\n",
        "sns.boxplot(x='Year', y='PM2.5',data=df_year)"
      ]
    },
    {
      "cell_type": "markdown",
      "id": "3edf58b2",
      "metadata": {
        "papermill": {
          "duration": 0.018325,
          "end_time": "2022-06-12T07:52:02.319862",
          "exception": false,
          "start_time": "2022-06-12T07:52:02.301537",
          "status": "completed"
        },
        "tags": [],
        "id": "3edf58b2"
      },
      "source": [
        "* Time series by month average"
      ]
    },
    {
      "cell_type": "code",
      "execution_count": null,
      "id": "e16b80ad",
      "metadata": {
        "execution": {
          "iopub.execute_input": "2022-06-12T07:52:02.359089Z",
          "iopub.status.busy": "2022-06-12T07:52:02.358639Z",
          "iopub.status.idle": "2022-06-12T07:52:02.519203Z",
          "shell.execute_reply": "2022-06-12T07:52:02.518287Z"
        },
        "papermill": {
          "duration": 0.182987,
          "end_time": "2022-06-12T07:52:02.521610",
          "exception": false,
          "start_time": "2022-06-12T07:52:02.338623",
          "status": "completed"
        },
        "tags": [],
        "colab": {
          "base_uri": "https://localhost:8080/",
          "height": 324
        },
        "id": "e16b80ad",
        "outputId": "66ebcc7e-09c2-482a-c5a7-81fb7d557037"
      },
      "outputs": [
        {
          "output_type": "execute_result",
          "data": {
            "text/plain": [
              "<matplotlib.axes._subplots.AxesSubplot at 0x7f9c465f7810>"
            ]
          },
          "metadata": {},
          "execution_count": 12
        },
        {
          "output_type": "display_data",
          "data": {
            "text/plain": [
              "<Figure size 432x288 with 1 Axes>"
            ],
            "image/png": "[encoded data removed]"
          },
          "metadata": {}
        }
      ],
      "source": [
        "df.groupby('Month')['PM2.5'].mean().plot()"
      ]
    },
    {
      "cell_type": "markdown",
      "id": "8f6fdd2e",
      "metadata": {
        "papermill": {
          "duration": 0.01873,
          "end_time": "2022-06-12T07:52:02.559702",
          "exception": false,
          "start_time": "2022-06-12T07:52:02.540972",
          "status": "completed"
        },
        "tags": [],
        "id": "8f6fdd2e"
      },
      "source": [
        "* Boxplot by month"
      ]
    },
    {
      "cell_type": "code",
      "execution_count": null,
      "id": "553917dd",
      "metadata": {
        "execution": {
          "iopub.execute_input": "2022-06-12T07:52:02.599930Z",
          "iopub.status.busy": "2022-06-12T07:52:02.598491Z",
          "iopub.status.idle": "2022-06-12T07:52:02.883399Z",
          "shell.execute_reply": "2022-06-12T07:52:02.882748Z"
        },
        "papermill": {
          "duration": 0.306852,
          "end_time": "2022-06-12T07:52:02.885470",
          "exception": false,
          "start_time": "2022-06-12T07:52:02.578618",
          "status": "completed"
        },
        "tags": [],
        "colab": {
          "base_uri": "https://localhost:8080/",
          "height": 322
        },
        "id": "553917dd",
        "outputId": "09ca3828-2642-456e-8fc0-3588572bab4d"
      },
      "outputs": [
        {
          "output_type": "execute_result",
          "data": {
            "text/plain": [
              "<matplotlib.axes._subplots.AxesSubplot at 0x7f9c46563910>"
            ]
          },
          "metadata": {},
          "execution_count": 13
        },
        {
          "output_type": "display_data",
          "data": {
            "text/plain": [
              "<Figure size 432x288 with 1 Axes>"
            ],
            "image/png": "[encoded data removed]"
          },
          "metadata": {}
        }
      ],
      "source": [
        "df_month=df.loc[:,['Month','PM2.5']]\n",
        "sns.boxplot(x='Month', y='PM2.5',data=df_month)"
      ]
    },
    {
      "cell_type": "markdown",
      "id": "5fb5c93c",
      "metadata": {
        "papermill": {
          "duration": 0.011886,
          "end_time": "2022-06-12T07:52:02.916748",
          "exception": false,
          "start_time": "2022-06-12T07:52:02.904862",
          "status": "completed"
        },
        "tags": [],
        "id": "5fb5c93c"
      },
      "source": [
        "* Time series by day average"
      ]
    },
    {
      "cell_type": "code",
      "execution_count": null,
      "id": "6d963f96",
      "metadata": {
        "execution": {
          "iopub.execute_input": "2022-06-12T07:52:02.943209Z",
          "iopub.status.busy": "2022-06-12T07:52:02.942546Z",
          "iopub.status.idle": "2022-06-12T07:52:03.088769Z",
          "shell.execute_reply": "2022-06-12T07:52:03.088101Z"
        },
        "papermill": {
          "duration": 0.161482,
          "end_time": "2022-06-12T07:52:03.090303",
          "exception": false,
          "start_time": "2022-06-12T07:52:02.928821",
          "status": "completed"
        },
        "tags": [],
        "colab": {
          "base_uri": "https://localhost:8080/",
          "height": 322
        },
        "id": "6d963f96",
        "outputId": "80b256ab-f7e9-4eaa-be9a-f6ecb9e418f5"
      },
      "outputs": [
        {
          "output_type": "execute_result",
          "data": {
            "text/plain": [
              "<matplotlib.axes._subplots.AxesSubplot at 0x7f9c46567c50>"
            ]
          },
          "metadata": {},
          "execution_count": 14
        },
        {
          "output_type": "display_data",
          "data": {
            "text/plain": [
              "<Figure size 432x288 with 1 Axes>"
            ],
            "image/png": "[encoded data removed]"
          },
          "metadata": {}
        }
      ],
      "source": [
        "df.groupby('Day')['PM2.5'].mean().plot()"
      ]
    },
    {
      "cell_type": "markdown",
      "id": "aaebf168",
      "metadata": {
        "papermill": {
          "duration": 0.012155,
          "end_time": "2022-06-12T07:52:03.115141",
          "exception": false,
          "start_time": "2022-06-12T07:52:03.102986",
          "status": "completed"
        },
        "tags": [],
        "id": "aaebf168"
      },
      "source": [
        "* Boxplot by day"
      ]
    },
    {
      "cell_type": "code",
      "execution_count": null,
      "id": "10c7f119",
      "metadata": {
        "execution": {
          "iopub.execute_input": "2022-06-12T07:52:03.142348Z",
          "iopub.status.busy": "2022-06-12T07:52:03.141434Z",
          "iopub.status.idle": "2022-06-12T07:52:03.825558Z",
          "shell.execute_reply": "2022-06-12T07:52:03.824391Z"
        },
        "papermill": {
          "duration": 0.699739,
          "end_time": "2022-06-12T07:52:03.827317",
          "exception": false,
          "start_time": "2022-06-12T07:52:03.127578",
          "status": "completed"
        },
        "tags": [],
        "colab": {
          "base_uri": "https://localhost:8080/",
          "height": 555
        },
        "id": "10c7f119",
        "outputId": "7860711c-0c2d-4f59-8d8c-a6ae7159967b"
      },
      "outputs": [
        {
          "output_type": "execute_result",
          "data": {
            "text/plain": [
              "<matplotlib.axes._subplots.AxesSubplot at 0x7f9c46f55590>"
            ]
          },
          "metadata": {},
          "execution_count": 15
        },
        {
          "output_type": "display_data",
          "data": {
            "text/plain": [
              "<Figure size 720x576 with 1 Axes>"
            ],
            "image/png": "[encoded data removed]"
          },
          "metadata": {}
        }
      ],
      "source": [
        "df_day=df.loc[:,['Day','PM2.5']]\n",
        "plt.figure(figsize=(10,8))\n",
        "sns.boxplot(x='Day', y='PM2.5',data=df_day)"
      ]
    },
    {
      "cell_type": "markdown",
      "id": "d929bdb4",
      "metadata": {
        "papermill": {
          "duration": 0.012721,
          "end_time": "2022-06-12T07:52:03.853452",
          "exception": false,
          "start_time": "2022-06-12T07:52:03.840731",
          "status": "completed"
        },
        "tags": [],
        "id": "d929bdb4"
      },
      "source": [
        "* Time series by hour average"
      ]
    },
    {
      "cell_type": "code",
      "execution_count": null,
      "id": "dd7c9a42",
      "metadata": {
        "execution": {
          "iopub.execute_input": "2022-06-12T07:52:03.882138Z",
          "iopub.status.busy": "2022-06-12T07:52:03.881007Z",
          "iopub.status.idle": "2022-06-12T07:52:04.045712Z",
          "shell.execute_reply": "2022-06-12T07:52:04.044378Z"
        },
        "papermill": {
          "duration": 0.181476,
          "end_time": "2022-06-12T07:52:04.047919",
          "exception": false,
          "start_time": "2022-06-12T07:52:03.866443",
          "status": "completed"
        },
        "tags": [],
        "colab": {
          "base_uri": "https://localhost:8080/",
          "height": 322
        },
        "id": "dd7c9a42",
        "outputId": "808839ad-fd06-4d8e-a48a-80ed8a65f3db"
      },
      "outputs": [
        {
          "output_type": "execute_result",
          "data": {
            "text/plain": [
              "<matplotlib.axes._subplots.AxesSubplot at 0x7f9c46f55d50>"
            ]
          },
          "metadata": {},
          "execution_count": 16
        },
        {
          "output_type": "display_data",
          "data": {
            "text/plain": [
              "<Figure size 432x288 with 1 Axes>"
            ],
            "image/png": "[encoded data removed]"
          },
          "metadata": {}
        }
      ],
      "source": [
        "df.groupby('Hour')['PM2.5'].mean().plot()"
      ]
    },
    {
      "cell_type": "markdown",
      "id": "021be68d",
      "metadata": {
        "papermill": {
          "duration": 0.020645,
          "end_time": "2022-06-12T07:52:04.089699",
          "exception": false,
          "start_time": "2022-06-12T07:52:04.069054",
          "status": "completed"
        },
        "tags": [],
        "id": "021be68d"
      },
      "source": [
        "* Boxplot by hour"
      ]
    },
    {
      "cell_type": "code",
      "execution_count": null,
      "id": "fafbf49c",
      "metadata": {
        "execution": {
          "iopub.execute_input": "2022-06-12T07:52:04.132939Z",
          "iopub.status.busy": "2022-06-12T07:52:04.132405Z",
          "iopub.status.idle": "2022-06-12T07:52:04.981353Z",
          "shell.execute_reply": "2022-06-12T07:52:04.980461Z"
        },
        "papermill": {
          "duration": 0.872941,
          "end_time": "2022-06-12T07:52:04.983169",
          "exception": false,
          "start_time": "2022-06-12T07:52:04.110228",
          "status": "completed"
        },
        "tags": [],
        "colab": {
          "base_uri": "https://localhost:8080/",
          "height": 555
        },
        "id": "fafbf49c",
        "outputId": "eab89bf3-4f53-4440-d175-428b1adc9f9d"
      },
      "outputs": [
        {
          "output_type": "execute_result",
          "data": {
            "text/plain": [
              "<matplotlib.axes._subplots.AxesSubplot at 0x7f9c464cb1d0>"
            ]
          },
          "metadata": {},
          "execution_count": 17
        },
        {
          "output_type": "display_data",
          "data": {
            "text/plain": [
              "<Figure size 720x576 with 1 Axes>"
            ],
            "image/png": "[encoded data removed]"
          },
          "metadata": {}
        }
      ],
      "source": [
        "df_hour=df.loc[:,['Hour','PM2.5']]\n",
        "plt.figure(figsize=(10,8))\n",
        "sns.boxplot(x='Hour', y='PM2.5',data=df_hour)"
      ]
    },
    {
      "cell_type": "markdown",
      "id": "4ac584b2",
      "metadata": {
        "papermill": {
          "duration": 0.013831,
          "end_time": "2022-06-12T07:52:05.011480",
          "exception": false,
          "start_time": "2022-06-12T07:52:04.997649",
          "status": "completed"
        },
        "tags": [],
        "id": "4ac584b2"
      },
      "source": [
        "# Prediction Model"
      ]
    },
    {
      "cell_type": "markdown",
      "id": "3a1e8760",
      "metadata": {
        "papermill": {
          "duration": 0.013609,
          "end_time": "2022-06-12T07:52:05.039356",
          "exception": false,
          "start_time": "2022-06-12T07:52:05.025747",
          "status": "completed"
        },
        "tags": [],
        "id": "3a1e8760"
      },
      "source": [
        "* I tried to find the prediction model by each days average. So first, I made each days average data set."
      ]
    },
    {
      "cell_type": "code",
      "execution_count": null,
      "id": "95ca359b",
      "metadata": {
        "execution": {
          "iopub.execute_input": "2022-06-12T07:52:05.069553Z",
          "iopub.status.busy": "2022-06-12T07:52:05.068384Z",
          "iopub.status.idle": "2022-06-12T07:52:05.085207Z",
          "shell.execute_reply": "2022-06-12T07:52:05.084648Z"
        },
        "papermill": {
          "duration": 0.033965,
          "end_time": "2022-06-12T07:52:05.087202",
          "exception": false,
          "start_time": "2022-06-12T07:52:05.053237",
          "status": "completed"
        },
        "tags": [],
        "id": "95ca359b",
        "outputId": "4310cb2a-e4af-4594-d914-6b96ba7a9b0d",
        "colab": {
          "base_uri": "https://localhost:8080/",
          "height": 455
        }
      },
      "outputs": [
        {
          "output_type": "execute_result",
          "data": {
            "text/plain": [
              "                 PM2.5\n",
              "Date                  \n",
              "2017-11-07   99.805833\n",
              "2017-11-08  110.979565\n",
              "2017-11-09  114.915833\n",
              "2017-11-10  119.404091\n",
              "2017-11-11  109.267273\n",
              "...                ...\n",
              "2022-05-31   41.465417\n",
              "2022-06-01   41.645833\n",
              "2022-06-02   42.255417\n",
              "2022-06-03   39.425417\n",
              "2022-06-04   38.503750\n",
              "\n",
              "[1616 rows x 1 columns]"
            ],
            "text/html": [
              "\n",
              "  <div id=\"df-96fd88d3-eceb-4e91-93da-229be79c687e\">\n",
              "    <div class=\"colab-df-container\">\n",
              "      <div>\n",
              "<style scoped>\n",
              "    .dataframe tbody tr th:only-of-type {\n",
              "        vertical-align: middle;\n",
              "    }\n",
              "\n",
              "    .dataframe tbody tr th {\n",
              "        vertical-align: top;\n",
              "    }\n",
              "\n",
              "    .dataframe thead th {\n",
              "        text-align: right;\n",
              "    }\n",
              "</style>\n",
              "<table border=\"1\" class=\"dataframe\">\n",
              "  <thead>\n",
              "    <tr style=\"text-align: right;\">\n",
              "      <th></th>\n",
              "      <th>PM2.5</th>\n",
              "    </tr>\n",
              "    <tr>\n",
              "      <th>Date</th>\n",
              "      <th></th>\n",
              "    </tr>\n",
              "  </thead>\n",
              "  <tbody>\n",
              "    <tr>\n",
              "      <th>2017-11-07</th>\n",
              "      <td>99.805833</td>\n",
              "    </tr>\n",
              "    <tr>\n",
              "      <th>2017-11-08</th>\n",
              "      <td>110.979565</td>\n",
              "    </tr>\n",
              "    <tr>\n",
              "      <th>2017-11-09</th>\n",
              "      <td>114.915833</td>\n",
              "    </tr>\n",
              "    <tr>\n",
              "      <th>2017-11-10</th>\n",
              "      <td>119.404091</td>\n",
              "    </tr>\n",
              "    <tr>\n",
              "      <th>2017-11-11</th>\n",
              "      <td>109.267273</td>\n",
              "    </tr>\n",
              "    <tr>\n",
              "      <th>...</th>\n",
              "      <td>...</td>\n",
              "    </tr>\n",
              "    <tr>\n",
              "      <th>2022-05-31</th>\n",
              "      <td>41.465417</td>\n",
              "    </tr>\n",
              "    <tr>\n",
              "      <th>2022-06-01</th>\n",
              "      <td>41.645833</td>\n",
              "    </tr>\n",
              "    <tr>\n",
              "      <th>2022-06-02</th>\n",
              "      <td>42.255417</td>\n",
              "    </tr>\n",
              "    <tr>\n",
              "      <th>2022-06-03</th>\n",
              "      <td>39.425417</td>\n",
              "    </tr>\n",
              "    <tr>\n",
              "      <th>2022-06-04</th>\n",
              "      <td>38.503750</td>\n",
              "    </tr>\n",
              "  </tbody>\n",
              "</table>\n",
              "<p>1616 rows × 1 columns</p>\n",
              "</div>\n",
              "      <button class=\"colab-df-convert\" onclick=\"convertToInteractive('df-96fd88d3-eceb-4e91-93da-229be79c687e')\"\n",
              "              title=\"Convert this dataframe to an interactive table.\"\n",
              "              style=\"display:none;\">\n",
              "        \n",
              "  <svg xmlns=\"http://www.w3.org/2000/svg\" height=\"24px\"viewBox=\"0 0 24 24\"\n",
              "       width=\"24px\">\n",
              "    <path d=\"M0 0h24v24H0V0z\" fill=\"none\"/>\n",
              "    <path d=\"M18.56 5.44l.94 2.06.94-2.06 2.06-.94-2.06-.94-.94-2.06-.94 2.06-2.06.94zm-11 1L8.5 8.5l.94-2.06 2.06-.94-2.06-.94L8.5 2.5l-.94 2.06-2.06.94zm10 10l.94 2.06.94-2.06 2.06-.94-2.06-.94-.94-2.06-.94 2.06-2.06.94z\"/><path d=\"M17.41 7.96l-1.37-1.37c-.4-.4-.92-.59-1.43-.59-.52 0-1.04.2-1.43.59L10.3 9.45l-7.72 7.72c-.78.78-.78 2.05 0 2.83L4 21.41c.39.39.9.59 1.41.59.51 0 1.02-.2 1.41-.59l7.78-7.78 2.81-2.81c.8-.78.8-2.07 0-2.86zM5.41 20L4 18.59l7.72-7.72 1.47 1.35L5.41 20z\"/>\n",
              "  </svg>\n",
              "      </button>\n",
              "      \n",
              "  <style>\n",
              "    .colab-df-container {\n",
              "      display:flex;\n",
              "      flex-wrap:wrap;\n",
              "      gap: 12px;\n",
              "    }\n",
              "\n",
              "    .colab-df-convert {\n",
              "      background-color: #E8F0FE;\n",
              "      border: none;\n",
              "      border-radius: 50%;\n",
              "      cursor: pointer;\n",
              "      display: none;\n",
              "      fill: #1967D2;\n",
              "      height: 32px;\n",
              "      padding: 0 0 0 0;\n",
              "      width: 32px;\n",
              "    }\n",
              "\n",
              "    .colab-df-convert:hover {\n",
              "      background-color: #E2EBFA;\n",
              "      box-shadow: 0px 1px 2px rgba(60, 64, 67, 0.3), 0px 1px 3px 1px rgba(60, 64, 67, 0.15);\n",
              "      fill: #174EA6;\n",
              "    }\n",
              "\n",
              "    [theme=dark] .colab-df-convert {\n",
              "      background-color: #3B4455;\n",
              "      fill: #D2E3FC;\n",
              "    }\n",
              "\n",
              "    [theme=dark] .colab-df-convert:hover {\n",
              "      background-color: #434B5C;\n",
              "      box-shadow: 0px 1px 3px 1px rgba(0, 0, 0, 0.15);\n",
              "      filter: drop-shadow(0px 1px 2px rgba(0, 0, 0, 0.3));\n",
              "      fill: #FFFFFF;\n",
              "    }\n",
              "  </style>\n",
              "\n",
              "      <script>\n",
              "        const buttonEl =\n",
              "          document.querySelector('#df-96fd88d3-eceb-4e91-93da-229be79c687e button.colab-df-convert');\n",
              "        buttonEl.style.display =\n",
              "          google.colab.kernel.accessAllowed ? 'block' : 'none';\n",
              "\n",
              "        async function convertToInteractive(key) {\n",
              "          const element = document.querySelector('#df-96fd88d3-eceb-4e91-93da-229be79c687e');\n",
              "          const dataTable =\n",
              "            await google.colab.kernel.invokeFunction('convertToInteractive',\n",
              "                                                     [key], {});\n",
              "          if (!dataTable) return;\n",
              "\n",
              "          const docLinkHtml = 'Like what you see? Visit the ' +\n",
              "            '<a target=\"_blank\" href=https://colab.research.google.com/notebooks/data_table.ipynb>data table notebook</a>'\n",
              "            + ' to learn more about interactive tables.';\n",
              "          element.innerHTML = '';\n",
              "          dataTable['output_type'] = 'display_data';\n",
              "          await google.colab.output.renderOutput(dataTable, element);\n",
              "          const docLink = document.createElement('div');\n",
              "          docLink.innerHTML = docLinkHtml;\n",
              "          element.appendChild(docLink);\n",
              "        }\n",
              "      </script>\n",
              "    </div>\n",
              "  </div>\n",
              "  "
            ]
          },
          "metadata": {},
          "execution_count": 18
        }
      ],
      "source": [
        "df_date=pd.DataFrame(df.groupby('Date')['PM2.5'].mean())\n",
        "df_date"
      ]
    },
    {
      "cell_type": "markdown",
      "id": "93db9ddf",
      "metadata": {
        "papermill": {
          "duration": 0.021627,
          "end_time": "2022-06-12T07:52:05.130672",
          "exception": false,
          "start_time": "2022-06-12T07:52:05.109045",
          "status": "completed"
        },
        "tags": [],
        "id": "93db9ddf"
      },
      "source": [
        "* Time series by each days average"
      ]
    },
    {
      "cell_type": "code",
      "execution_count": null,
      "id": "753cef23",
      "metadata": {
        "execution": {
          "iopub.execute_input": "2022-06-12T07:52:05.175218Z",
          "iopub.status.busy": "2022-06-12T07:52:05.174720Z",
          "iopub.status.idle": "2022-06-12T07:52:05.426330Z",
          "shell.execute_reply": "2022-06-12T07:52:05.425150Z"
        },
        "papermill": {
          "duration": 0.276275,
          "end_time": "2022-06-12T07:52:05.428529",
          "exception": false,
          "start_time": "2022-06-12T07:52:05.152254",
          "status": "completed"
        },
        "tags": [],
        "id": "753cef23",
        "outputId": "a1d286f4-69de-4147-92ce-8fab9930f688",
        "colab": {
          "base_uri": "https://localhost:8080/",
          "height": 482
        }
      },
      "outputs": [
        {
          "output_type": "execute_result",
          "data": {
            "text/plain": [
              "<matplotlib.axes._subplots.AxesSubplot at 0x7f9c46502990>"
            ]
          },
          "metadata": {},
          "execution_count": 19
        },
        {
          "output_type": "display_data",
          "data": {
            "text/plain": [
              "<Figure size 1440x576 with 1 Axes>"
            ],
            "image/png": "[encoded data removed]"
          },
          "metadata": {}
        }
      ],
      "source": [
        "df_date.plot(figsize=(20,8))"
      ]
    },
    {
      "cell_type": "markdown",
      "id": "030cc5bc",
      "metadata": {
        "papermill": {
          "duration": 0.015995,
          "end_time": "2022-06-12T07:52:05.467972",
          "exception": false,
          "start_time": "2022-06-12T07:52:05.451977",
          "status": "completed"
        },
        "tags": [],
        "id": "030cc5bc"
      },
      "source": [
        "* Split data into train 80% and test 20%"
      ]
    },
    {
      "cell_type": "code",
      "execution_count": null,
      "id": "d6249011",
      "metadata": {
        "execution": {
          "iopub.execute_input": "2022-06-12T07:52:05.500937Z",
          "iopub.status.busy": "2022-06-12T07:52:05.499988Z",
          "iopub.status.idle": "2022-06-12T07:52:05.506627Z",
          "shell.execute_reply": "2022-06-12T07:52:05.505373Z"
        },
        "papermill": {
          "duration": 0.025075,
          "end_time": "2022-06-12T07:52:05.508945",
          "exception": false,
          "start_time": "2022-06-12T07:52:05.483870",
          "status": "completed"
        },
        "tags": [],
        "id": "d6249011",
        "outputId": "72e2e6b8-c85a-4e73-b437-3496dde7de45",
        "colab": {
          "base_uri": "https://localhost:8080/"
        }
      },
      "outputs": [
        {
          "output_type": "execute_result",
          "data": {
            "text/plain": [
              "1293"
            ]
          },
          "metadata": {},
          "execution_count": 20
        }
      ],
      "source": [
        "dataset  = df_date.values\n",
        "training_data_len = math.ceil(len(dataset)*.8)\n",
        "training_data_len"
      ]
    },
    {
      "cell_type": "code",
      "source": [
        "data = dataset\n",
        "sar = sm.tsa.statespace.SARIMAX(data.sales_diff, order=(12, 0,\n",
        "                                    0), seasonal_order=(0, 1, 0,\n",
        "                                    12), trend='c').fit()\n",
        "\n",
        "# Generate predictions\n",
        "start, end, dynamic = 40, 100, 7\n",
        "data['pred_value'] = sar.predict(start=start, end=end,\n",
        "                                  dynamic=dynamic)\n",
        "# Call helper functions to undo scaling & create prediction df\n",
        "original_df = load_data('../data/monthly_data.csv')\n",
        "unscaled_df = predict_df(data, original_df)\n",
        "# Call helper functions to print scores and plot results\n",
        "get_scores(unscaled_df, original_df, 'ARIMA')\n",
        "plot_results(unscaled_df, original_df, 'ARIMA')"
      ],
      "metadata": {
        "id": "7spHSL8VqvCW"
      },
      "id": "7spHSL8VqvCW",
      "execution_count": null,
      "outputs": []
    },
    {
      "cell_type": "code",
      "source": [
        "from sklearn.model_selection import train_test_split, cross_val_score, KFold, GridSearchCV\n",
        "from sklearn.feature_selection import RFECV\n",
        "from sklearn.tree import DecisionTreeRegressor\n",
        "from sklearn.ensemble import RandomForestRegressor\n",
        "from sklearn.neighbors import KNeighborsRegressor\n",
        "from sklearn.svm import SVR\n",
        "from xgboost import XGBRegressor\n",
        "from sklearn.metrics import mean_absolute_error, r2_score, mean_squared_error"
      ],
      "metadata": {
        "id": "J1H9l6HsmwKr"
      },
      "id": "J1H9l6HsmwKr",
      "execution_count": null,
      "outputs": []
    },
    {
      "cell_type": "code",
      "source": [
        "#Model Selection based on validation error\n",
        "kfold=KFold(n_splits=10, shuffle=True, random_state=0)\n",
        "model_factory = [DecisionTreeRegressor(), RandomForestRegressor(), KNeighborsRegressor(), SVR(), XGBRegressor()]\n",
        "for model in model_factory:\n",
        "    scores = cross_val_score(model, features, target, cv=kfold, scoring='neg_mean_absolute_error')\n",
        "    print(model.__class__.__name__, \": Cross Validation Error:\", -np.mean(scores))"
      ],
      "metadata": {
        "id": "e85UYiGGmhtd",
        "colab": {
          "base_uri": "https://localhost:8080/",
          "height": 225
        },
        "outputId": "1dde251d-9f79-4119-b5af-6c1b602f9f6d"
      },
      "id": "e85UYiGGmhtd",
      "execution_count": null,
      "outputs": [
        {
          "output_type": "error",
          "ename": "NameError",
          "evalue": "ignored",
          "traceback": [
            "\u001b[0;31m---------------------------------------------------------------------------\u001b[0m",
            "\u001b[0;31mNameError\u001b[0m                                 Traceback (most recent call last)",
            "\u001b[0;32m<ipython-input-23-46b742c544bb>\u001b[0m in \u001b[0;36m<module>\u001b[0;34m()\u001b[0m\n\u001b[1;32m      3\u001b[0m \u001b[0mmodel_factory\u001b[0m \u001b[0;34m=\u001b[0m \u001b[0;34m[\u001b[0m\u001b[0mDecisionTreeRegressor\u001b[0m\u001b[0;34m(\u001b[0m\u001b[0;34m)\u001b[0m\u001b[0;34m,\u001b[0m \u001b[0mRandomForestRegressor\u001b[0m\u001b[0;34m(\u001b[0m\u001b[0;34m)\u001b[0m\u001b[0;34m,\u001b[0m \u001b[0mKNeighborsRegressor\u001b[0m\u001b[0;34m(\u001b[0m\u001b[0;34m)\u001b[0m\u001b[0;34m,\u001b[0m \u001b[0mSVR\u001b[0m\u001b[0;34m(\u001b[0m\u001b[0;34m)\u001b[0m\u001b[0;34m,\u001b[0m \u001b[0mXGBRegressor\u001b[0m\u001b[0;34m(\u001b[0m\u001b[0;34m)\u001b[0m\u001b[0;34m]\u001b[0m\u001b[0;34m\u001b[0m\u001b[0;34m\u001b[0m\u001b[0m\n\u001b[1;32m      4\u001b[0m \u001b[0;32mfor\u001b[0m \u001b[0mmodel\u001b[0m \u001b[0;32min\u001b[0m \u001b[0mmodel_factory\u001b[0m\u001b[0;34m:\u001b[0m\u001b[0;34m\u001b[0m\u001b[0;34m\u001b[0m\u001b[0m\n\u001b[0;32m----> 5\u001b[0;31m     \u001b[0mscores\u001b[0m \u001b[0;34m=\u001b[0m \u001b[0mcross_val_score\u001b[0m\u001b[0;34m(\u001b[0m\u001b[0mmodel\u001b[0m\u001b[0;34m,\u001b[0m \u001b[0mfeatures\u001b[0m\u001b[0;34m,\u001b[0m \u001b[0mtarget\u001b[0m\u001b[0;34m,\u001b[0m \u001b[0mcv\u001b[0m\u001b[0;34m=\u001b[0m\u001b[0mkfold\u001b[0m\u001b[0;34m,\u001b[0m \u001b[0mscoring\u001b[0m\u001b[0;34m=\u001b[0m\u001b[0;34m'neg_mean_absolute_error'\u001b[0m\u001b[0;34m)\u001b[0m\u001b[0;34m\u001b[0m\u001b[0;34m\u001b[0m\u001b[0m\n\u001b[0m\u001b[1;32m      6\u001b[0m     \u001b[0mprint\u001b[0m\u001b[0;34m(\u001b[0m\u001b[0mmodel\u001b[0m\u001b[0;34m.\u001b[0m\u001b[0m__class__\u001b[0m\u001b[0;34m.\u001b[0m\u001b[0m__name__\u001b[0m\u001b[0;34m,\u001b[0m \u001b[0;34m\": Cross Validation Error:\"\u001b[0m\u001b[0;34m,\u001b[0m \u001b[0;34m-\u001b[0m\u001b[0mnp\u001b[0m\u001b[0;34m.\u001b[0m\u001b[0mmean\u001b[0m\u001b[0;34m(\u001b[0m\u001b[0mscores\u001b[0m\u001b[0;34m)\u001b[0m\u001b[0;34m)\u001b[0m\u001b[0;34m\u001b[0m\u001b[0;34m\u001b[0m\u001b[0m\n",
            "\u001b[0;31mNameError\u001b[0m: name 'features' is not defined"
          ]
        }
      ]
    },
    {
      "cell_type": "code",
      "source": [
        "rfe = RFECV(XGBRegressor(), step=2, min_features_to_select=2, cv=kfold, scoring='r2')\n",
        "rfe = rfe.fit(features, target)\n",
        "print(\"Optimum no. of features\", rfe.n_features_)\n",
        "print(\"Selected features\", features.columns[rfe.support_])\n",
        "plt.figure(figsize=(10, 9))\n",
        "plt.xlabel('# of featuers')\n",
        "plt.ylabel('Accuracy')\n",
        "plt.plot(range(1, len(rfe.grid_scores_)+1) , rfe.grid_scores_.mean(axis=1))\n",
        "plt.figure()"
      ],
      "metadata": {
        "id": "g9K3A3uUm0gi"
      },
      "id": "g9K3A3uUm0gi",
      "execution_count": null,
      "outputs": []
    },
    {
      "cell_type": "markdown",
      "id": "49e6e306",
      "metadata": {
        "papermill": {
          "duration": 0.015224,
          "end_time": "2022-06-12T07:52:05.540101",
          "exception": false,
          "start_time": "2022-06-12T07:52:05.524877",
          "status": "completed"
        },
        "tags": [],
        "id": "49e6e306"
      },
      "source": [
        "* Standardization by MinMaxScaler"
      ]
    },
    {
      "cell_type": "code",
      "execution_count": null,
      "id": "48d2f37a",
      "metadata": {
        "execution": {
          "iopub.execute_input": "2022-06-12T07:52:05.572456Z",
          "iopub.status.busy": "2022-06-12T07:52:05.571958Z",
          "iopub.status.idle": "2022-06-12T07:52:05.577837Z",
          "shell.execute_reply": "2022-06-12T07:52:05.577298Z"
        },
        "papermill": {
          "duration": 0.023966,
          "end_time": "2022-06-12T07:52:05.579356",
          "exception": false,
          "start_time": "2022-06-12T07:52:05.555390",
          "status": "completed"
        },
        "tags": [],
        "id": "48d2f37a",
        "outputId": "cf167108-f4c4-4383-d612-005a4cfc2a32",
        "colab": {
          "base_uri": "https://localhost:8080/"
        }
      },
      "outputs": [
        {
          "output_type": "execute_result",
          "data": {
            "text/plain": [
              "array([[0.80924161],\n",
              "       [0.91297267],\n",
              "       [0.94951492],\n",
              "       ...,\n",
              "       [0.27497376],\n",
              "       [0.24870153],\n",
              "       [0.24014526]])"
            ]
          },
          "metadata": {},
          "execution_count": 22
        }
      ],
      "source": [
        "sc = MinMaxScaler(feature_range=(0,1))\n",
        "scaled_data = sc.fit_transform(dataset)\n",
        "scaled_data"
      ]
    },
    {
      "cell_type": "code",
      "execution_count": null,
      "id": "9a4d514f",
      "metadata": {
        "execution": {
          "iopub.execute_input": "2022-06-12T07:52:05.612166Z",
          "iopub.status.busy": "2022-06-12T07:52:05.611712Z",
          "iopub.status.idle": "2022-06-12T07:52:05.617018Z",
          "shell.execute_reply": "2022-06-12T07:52:05.616226Z"
        },
        "papermill": {
          "duration": 0.024105,
          "end_time": "2022-06-12T07:52:05.619181",
          "exception": false,
          "start_time": "2022-06-12T07:52:05.595076",
          "status": "completed"
        },
        "tags": [],
        "id": "9a4d514f"
      },
      "outputs": [],
      "source": [
        "train_data = scaled_data[0:training_data_len, :]\n",
        "x_train = []\n",
        "y_train = []\n",
        "num = 60\n",
        "for i in range(num, len(train_data)):\n",
        "    x_train.append(train_data[i-num:i , 0])\n",
        "    y_train.append(train_data[i , 0])"
      ]
    },
    {
      "cell_type": "code",
      "execution_count": null,
      "id": "f2421d3b",
      "metadata": {
        "execution": {
          "iopub.execute_input": "2022-06-12T07:52:05.652836Z",
          "iopub.status.busy": "2022-06-12T07:52:05.652243Z",
          "iopub.status.idle": "2022-06-12T07:52:05.658560Z",
          "shell.execute_reply": "2022-06-12T07:52:05.657781Z"
        },
        "papermill": {
          "duration": 0.025035,
          "end_time": "2022-06-12T07:52:05.660082",
          "exception": false,
          "start_time": "2022-06-12T07:52:05.635047",
          "status": "completed"
        },
        "tags": [],
        "id": "f2421d3b",
        "outputId": "270b15c6-7464-4a07-ab70-9dafd7d8610f",
        "colab": {
          "base_uri": "https://localhost:8080/"
        }
      },
      "outputs": [
        {
          "output_type": "execute_result",
          "data": {
            "text/plain": [
              "(1233, 60, 1)"
            ]
          },
          "metadata": {},
          "execution_count": 25
        }
      ],
      "source": [
        "x_train, y_train = np.array(x_train), np.array(y_train)\n",
        "x_train = np.reshape(x_train, (x_train.shape[0],x_train.shape[1],1))\n",
        "x_train.shape"
      ]
    },
    {
      "cell_type": "markdown",
      "source": [
        "Holt Winters"
      ],
      "metadata": {
        "id": "Inlm3xe8l0hG"
      },
      "id": "Inlm3xe8l0hG"
    },
    {
      "cell_type": "code",
      "source": [
        "from statsmodels.tsa.seasonal import seasonal_decompose\n",
        "from statsmodels.tsa.seasonal import seasonal_decompose\n",
        "# holt winters\n",
        "# single exponential smoothing\n",
        "from statsmodels.tsa.holtwinters import SimpleExpSmoothing\n",
        "# double and triple exponential smoothing\n",
        "from statsmodels.tsa.holtwinters import ExponentialSmoothing"
      ],
      "metadata": {
        "id": "MUrtKNOslzZ8"
      },
      "id": "MUrtKNOslzZ8",
      "execution_count": null,
      "outputs": []
    },
    {
      "cell_type": "code",
      "source": [],
      "metadata": {
        "id": "FKiGZLNcl_4J"
      },
      "id": "FKiGZLNcl_4J",
      "execution_count": null,
      "outputs": []
    },
    {
      "cell_type": "code",
      "source": [
        "from sklearn.model_selection import train_test_split\n",
        "train_inputs, val_inputs, train_targets, val_targets = train_test_split(inputs,\n",
        "                                                                        target,\n",
        "                                                                        test_size=0.25,\n",
        "                                                                        random_state=42)\n"
      ],
      "metadata": {
        "id": "UXH_bfzfnPGe"
      },
      "id": "UXH_bfzfnPGe",
      "execution_count": null,
      "outputs": []
    },
    {
      "cell_type": "code",
      "source": [
        "m = 1\n",
        "alpha = 1/(2*m)\n",
        "shwes_fitted = SimpleExpSmoothing(x_train[0]).fit(smoothing_level=alpha,optimized=False,use_brute=True).fitted_values\n",
        "shwes = SimpleExpSmoothing(x_train[0]).fit(smoothing_level=alpha,optimized=False,use_brute=True)"
      ],
      "metadata": {
        "id": "TOmTvkLTnari"
      },
      "id": "TOmTvkLTnari",
      "execution_count": null,
      "outputs": []
    },
    {
      "cell_type": "code",
      "source": [
        "test_predictions = shwes.forecast(y_test.shape[0])"
      ],
      "metadata": {
        "id": "-KmIiV4tn9N7"
      },
      "id": "-KmIiV4tn9N7",
      "execution_count": null,
      "outputs": []
    },
    {
      "cell_type": "code",
      "source": [
        "from sklearn.metrics import mean_absolute_error,mean_squared_error\n",
        "print(f'Mean Absolute Error = {mean_absolute_error(y_test,test_predictions)}')\n",
        "print(f'Mean Squared Error = {mean_squared_error(y_test,test_predictions)}')"
      ],
      "metadata": {
        "colab": {
          "base_uri": "https://localhost:8080/"
        },
        "id": "mDY0e_wzuuHy",
        "outputId": "091b4618-cee0-4800-c490-57d174f14bde"
      },
      "id": "mDY0e_wzuuHy",
      "execution_count": null,
      "outputs": [
        {
          "output_type": "stream",
          "name": "stdout",
          "text": [
            "Mean Absolute Error = 43.40082428915019\n",
            "Mean Squared Error = 2221.4897657362067\n"
          ]
        }
      ]
    },
    {
      "cell_type": "code",
      "source": [
        "[y_test, test_predictions]"
      ],
      "metadata": {
        "id": "0SbR6qX7wtsQ"
      },
      "id": "0SbR6qX7wtsQ",
      "execution_count": null,
      "outputs": []
    },
    {
      "cell_type": "markdown",
      "id": "179740c4",
      "metadata": {
        "papermill": {
          "duration": 0.015621,
          "end_time": "2022-06-12T07:52:05.691752",
          "exception": false,
          "start_time": "2022-06-12T07:52:05.676131",
          "status": "completed"
        },
        "tags": [],
        "id": "179740c4"
      },
      "source": [
        "* Modeling"
      ]
    },
    {
      "cell_type": "code",
      "execution_count": null,
      "id": "690f3cb5",
      "metadata": {
        "execution": {
          "iopub.execute_input": "2022-06-12T07:52:05.724761Z",
          "iopub.status.busy": "2022-06-12T07:52:05.724261Z",
          "iopub.status.idle": "2022-06-12T07:52:06.243818Z",
          "shell.execute_reply": "2022-06-12T07:52:06.243242Z"
        },
        "papermill": {
          "duration": 0.538365,
          "end_time": "2022-06-12T07:52:06.245718",
          "exception": false,
          "start_time": "2022-06-12T07:52:05.707353",
          "status": "completed"
        },
        "tags": [],
        "id": "690f3cb5"
      },
      "outputs": [],
      "source": [
        "model = Sequential()\n",
        "model.add(LSTM(50, return_sequences=True, input_shape=(x_train.shape[1],1)))\n",
        "model.add(LSTM(50, return_sequences=False))\n",
        "model.add(Dense(25))\n",
        "model.add(Dense(1))"
      ]
    },
    {
      "cell_type": "code",
      "execution_count": null,
      "id": "4cdd9804",
      "metadata": {
        "execution": {
          "iopub.execute_input": "2022-06-12T07:52:06.334061Z",
          "iopub.status.busy": "2022-06-12T07:52:06.333541Z",
          "iopub.status.idle": "2022-06-12T07:52:06.352477Z",
          "shell.execute_reply": "2022-06-12T07:52:06.351618Z"
        },
        "papermill": {
          "duration": 0.093005,
          "end_time": "2022-06-12T07:52:06.354802",
          "exception": false,
          "start_time": "2022-06-12T07:52:06.261797",
          "status": "completed"
        },
        "tags": [],
        "id": "4cdd9804"
      },
      "outputs": [],
      "source": [
        "model.compile(optimizer = \"adam\", loss = \"mean_squared_error\")"
      ]
    },
    {
      "cell_type": "code",
      "execution_count": null,
      "id": "080f668f",
      "metadata": {
        "execution": {
          "iopub.execute_input": "2022-06-12T07:52:06.389995Z",
          "iopub.status.busy": "2022-06-12T07:52:06.389486Z",
          "iopub.status.idle": "2022-06-12T07:52:49.269627Z",
          "shell.execute_reply": "2022-06-12T07:52:49.268643Z"
        },
        "papermill": {
          "duration": 42.900272,
          "end_time": "2022-06-12T07:52:49.271720",
          "exception": false,
          "start_time": "2022-06-12T07:52:06.371448",
          "status": "completed"
        },
        "tags": [],
        "id": "080f668f",
        "outputId": "10d182e6-edbb-4b40-83ae-11f00d1ded3e",
        "colab": {
          "base_uri": "https://localhost:8080/"
        }
      },
      "outputs": [
        {
          "output_type": "stream",
          "name": "stdout",
          "text": [
            "1233/1233 [==============================] - 45s 34ms/step - loss: 0.0072\n"
          ]
        },
        {
          "output_type": "execute_result",
          "data": {
            "text/plain": [
              "<keras.callbacks.History at 0x7f9c408ecd90>"
            ]
          },
          "metadata": {},
          "execution_count": 28
        }
      ],
      "source": [
        "model.fit(x_train,y_train, batch_size=1, epochs=1)"
      ]
    },
    {
      "cell_type": "markdown",
      "id": "fdcfd887",
      "metadata": {
        "papermill": {
          "duration": 0.076769,
          "end_time": "2022-06-12T07:52:49.424921",
          "exception": false,
          "start_time": "2022-06-12T07:52:49.348152",
          "status": "completed"
        },
        "tags": [],
        "id": "fdcfd887"
      },
      "source": [
        "* Prediction"
      ]
    },
    {
      "cell_type": "code",
      "execution_count": null,
      "id": "9b4db8d1",
      "metadata": {
        "execution": {
          "iopub.execute_input": "2022-06-12T07:52:49.579290Z",
          "iopub.status.busy": "2022-06-12T07:52:49.578869Z",
          "iopub.status.idle": "2022-06-12T07:52:49.586459Z",
          "shell.execute_reply": "2022-06-12T07:52:49.585826Z"
        },
        "papermill": {
          "duration": 0.088102,
          "end_time": "2022-06-12T07:52:49.588337",
          "exception": false,
          "start_time": "2022-06-12T07:52:49.500235",
          "status": "completed"
        },
        "tags": [],
        "id": "9b4db8d1"
      },
      "outputs": [],
      "source": [
        "test_data = scaled_data[training_data_len-60: , :]\n",
        "x_test = []\n",
        "y_test = dataset[training_data_len:,:]\n",
        "for i in range(num, len(test_data)):\n",
        "      x_test.append(test_data[i-num:i, 0])"
      ]
    },
    {
      "cell_type": "code",
      "execution_count": null,
      "id": "330dcdff",
      "metadata": {
        "execution": {
          "iopub.execute_input": "2022-06-12T07:52:49.740973Z",
          "iopub.status.busy": "2022-06-12T07:52:49.740264Z",
          "iopub.status.idle": "2022-06-12T07:52:49.745282Z",
          "shell.execute_reply": "2022-06-12T07:52:49.744637Z"
        },
        "papermill": {
          "duration": 0.083192,
          "end_time": "2022-06-12T07:52:49.747033",
          "exception": false,
          "start_time": "2022-06-12T07:52:49.663841",
          "status": "completed"
        },
        "tags": [],
        "id": "330dcdff"
      },
      "outputs": [],
      "source": [
        "x_test = np.array(x_test)\n",
        "x_test = np.reshape(x_test, (x_test.shape[0], x_test.shape[1], 1))"
      ]
    },
    {
      "cell_type": "code",
      "execution_count": null,
      "id": "369106b4",
      "metadata": {
        "execution": {
          "iopub.execute_input": "2022-06-12T07:52:49.910106Z",
          "iopub.status.busy": "2022-06-12T07:52:49.909422Z",
          "iopub.status.idle": "2022-06-12T07:52:51.082803Z",
          "shell.execute_reply": "2022-06-12T07:52:51.082169Z"
        },
        "papermill": {
          "duration": 1.260652,
          "end_time": "2022-06-12T07:52:51.085305",
          "exception": false,
          "start_time": "2022-06-12T07:52:49.824653",
          "status": "completed"
        },
        "tags": [],
        "id": "369106b4"
      },
      "outputs": [],
      "source": [
        "predictions = model.predict(x_test)\n",
        "predictions = sc.inverse_transform(predictions)"
      ]
    },
    {
      "cell_type": "code",
      "execution_count": null,
      "id": "198bcfab",
      "metadata": {
        "execution": {
          "iopub.execute_input": "2022-06-12T07:52:51.238485Z",
          "iopub.status.busy": "2022-06-12T07:52:51.237655Z",
          "iopub.status.idle": "2022-06-12T07:52:51.245028Z",
          "shell.execute_reply": "2022-06-12T07:52:51.243969Z"
        },
        "papermill": {
          "duration": 0.086055,
          "end_time": "2022-06-12T07:52:51.247100",
          "exception": false,
          "start_time": "2022-06-12T07:52:51.161045",
          "status": "completed"
        },
        "tags": [],
        "id": "198bcfab",
        "outputId": "0a61011a-acb3-417b-be06-5ebe51700fc8",
        "colab": {
          "base_uri": "https://localhost:8080/"
        }
      },
      "outputs": [
        {
          "output_type": "execute_result",
          "data": {
            "text/plain": [
              "2.764560952721826"
            ]
          },
          "metadata": {},
          "execution_count": 32
        }
      ],
      "source": [
        "rmse = np.sqrt(np.mean(predictions - y_test)**2)\n",
        "rmse"
      ]
    },
    {
      "cell_type": "code",
      "source": [
        "import sklearn.metrics\n",
        "sklearn.metrics.r2_score(y_test, predictions)"
      ],
      "metadata": {
        "colab": {
          "base_uri": "https://localhost:8080/"
        },
        "id": "YOLkXFyLLTRu",
        "outputId": "f618f0d5-aa47-4250-b780-cdd8d8f423cf"
      },
      "id": "YOLkXFyLLTRu",
      "execution_count": null,
      "outputs": [
        {
          "output_type": "execute_result",
          "data": {
            "text/plain": [
              "0.8486095824928311"
            ]
          },
          "metadata": {},
          "execution_count": 37
        }
      ]
    },
    {
      "cell_type": "code",
      "source": [
        "sklearn.__version__"
      ],
      "metadata": {
        "colab": {
          "base_uri": "https://localhost:8080/",
          "height": 36
        },
        "id": "W2p9tbuZLdxe",
        "outputId": "a0fa80da-8e5b-40fe-89ff-0896e1674d8f"
      },
      "id": "W2p9tbuZLdxe",
      "execution_count": null,
      "outputs": [
        {
          "output_type": "execute_result",
          "data": {
            "text/plain": [
              "'1.0.2'"
            ],
            "application/vnd.google.colaboratory.intrinsic+json": {
              "type": "string"
            }
          },
          "metadata": {},
          "execution_count": 36
        }
      ]
    },
    {
      "cell_type": "code",
      "source": [
        "print(f'Mean Absolute Error = {mean_absolute_error(y_test,predictions)}')\n",
        "print(f'Mean Squared Error = {mean_squared_error(y_test,predictions)}')"
      ],
      "metadata": {
        "colab": {
          "base_uri": "https://localhost:8080/",
          "height": 189
        },
        "id": "grhLZXkpv_G1",
        "outputId": "152d3ee7-352b-47fc-c7fe-da68baad3b6e"
      },
      "id": "grhLZXkpv_G1",
      "execution_count": null,
      "outputs": [
        {
          "output_type": "error",
          "ename": "NameError",
          "evalue": "ignored",
          "traceback": [
            "\u001b[0;31m---------------------------------------------------------------------------\u001b[0m",
            "\u001b[0;31mNameError\u001b[0m                                 Traceback (most recent call last)",
            "\u001b[0;32m<ipython-input-33-f01337c0e505>\u001b[0m in \u001b[0;36m<module>\u001b[0;34m()\u001b[0m\n\u001b[0;32m----> 1\u001b[0;31m \u001b[0mprint\u001b[0m\u001b[0;34m(\u001b[0m\u001b[0;34mf'Mean Absolute Error = {mean_absolute_error(y_test,predictions)}'\u001b[0m\u001b[0;34m)\u001b[0m\u001b[0;34m\u001b[0m\u001b[0;34m\u001b[0m\u001b[0m\n\u001b[0m\u001b[1;32m      2\u001b[0m \u001b[0mprint\u001b[0m\u001b[0;34m(\u001b[0m\u001b[0;34mf'Mean Squared Error = {mean_squared_error(y_test,predictions)}'\u001b[0m\u001b[0;34m)\u001b[0m\u001b[0;34m\u001b[0m\u001b[0;34m\u001b[0m\u001b[0m\n",
            "\u001b[0;31mNameError\u001b[0m: name 'mean_absolute_error' is not defined"
          ]
        }
      ]
    },
    {
      "cell_type": "code",
      "execution_count": null,
      "id": "4ea32417",
      "metadata": {
        "execution": {
          "iopub.execute_input": "2022-06-12T07:52:51.396298Z",
          "iopub.status.busy": "2022-06-12T07:52:51.395951Z",
          "iopub.status.idle": "2022-06-12T07:52:51.409002Z",
          "shell.execute_reply": "2022-06-12T07:52:51.408022Z"
        },
        "papermill": {
          "duration": 0.090102,
          "end_time": "2022-06-12T07:52:51.411524",
          "exception": false,
          "start_time": "2022-06-12T07:52:51.321422",
          "status": "completed"
        },
        "tags": [],
        "id": "4ea32417",
        "outputId": "3d8f73df-a0f0-4011-a1f4-bacad0f3e70c",
        "colab": {
          "base_uri": "https://localhost:8080/",
          "height": 455
        }
      },
      "outputs": [
        {
          "output_type": "execute_result",
          "data": {
            "text/plain": [
              "                PM2.5  Predictions\n",
              "Date                              \n",
              "2021-06-28  28.667917    27.178453\n",
              "2021-06-29  30.903750    27.202154\n",
              "2021-06-30  29.017917    27.831181\n",
              "2021-07-01  27.166667    28.147299\n",
              "2021-07-02  27.132917    27.958038\n",
              "...               ...          ...\n",
              "2022-05-31  41.465417    35.603333\n",
              "2022-06-01  41.645833    36.485973\n",
              "2022-06-02  42.255417    37.463890\n",
              "2022-06-03  39.425417    38.344944\n",
              "2022-06-04  38.503750    38.422958\n",
              "\n",
              "[323 rows x 2 columns]"
            ],
            "text/html": [
              "\n",
              "  <div id=\"df-636325b0-8957-4b59-8d00-5af52bcb044e\">\n",
              "    <div class=\"colab-df-container\">\n",
              "      <div>\n",
              "<style scoped>\n",
              "    .dataframe tbody tr th:only-of-type {\n",
              "        vertical-align: middle;\n",
              "    }\n",
              "\n",
              "    .dataframe tbody tr th {\n",
              "        vertical-align: top;\n",
              "    }\n",
              "\n",
              "    .dataframe thead th {\n",
              "        text-align: right;\n",
              "    }\n",
              "</style>\n",
              "<table border=\"1\" class=\"dataframe\">\n",
              "  <thead>\n",
              "    <tr style=\"text-align: right;\">\n",
              "      <th></th>\n",
              "      <th>PM2.5</th>\n",
              "      <th>Predictions</th>\n",
              "    </tr>\n",
              "    <tr>\n",
              "      <th>Date</th>\n",
              "      <th></th>\n",
              "      <th></th>\n",
              "    </tr>\n",
              "  </thead>\n",
              "  <tbody>\n",
              "    <tr>\n",
              "      <th>2021-06-28</th>\n",
              "      <td>28.667917</td>\n",
              "      <td>27.178453</td>\n",
              "    </tr>\n",
              "    <tr>\n",
              "      <th>2021-06-29</th>\n",
              "      <td>30.903750</td>\n",
              "      <td>27.202154</td>\n",
              "    </tr>\n",
              "    <tr>\n",
              "      <th>2021-06-30</th>\n",
              "      <td>29.017917</td>\n",
              "      <td>27.831181</td>\n",
              "    </tr>\n",
              "    <tr>\n",
              "      <th>2021-07-01</th>\n",
              "      <td>27.166667</td>\n",
              "      <td>28.147299</td>\n",
              "    </tr>\n",
              "    <tr>\n",
              "      <th>2021-07-02</th>\n",
              "      <td>27.132917</td>\n",
              "      <td>27.958038</td>\n",
              "    </tr>\n",
              "    <tr>\n",
              "      <th>...</th>\n",
              "      <td>...</td>\n",
              "      <td>...</td>\n",
              "    </tr>\n",
              "    <tr>\n",
              "      <th>2022-05-31</th>\n",
              "      <td>41.465417</td>\n",
              "      <td>35.603333</td>\n",
              "    </tr>\n",
              "    <tr>\n",
              "      <th>2022-06-01</th>\n",
              "      <td>41.645833</td>\n",
              "      <td>36.485973</td>\n",
              "    </tr>\n",
              "    <tr>\n",
              "      <th>2022-06-02</th>\n",
              "      <td>42.255417</td>\n",
              "      <td>37.463890</td>\n",
              "    </tr>\n",
              "    <tr>\n",
              "      <th>2022-06-03</th>\n",
              "      <td>39.425417</td>\n",
              "      <td>38.344944</td>\n",
              "    </tr>\n",
              "    <tr>\n",
              "      <th>2022-06-04</th>\n",
              "      <td>38.503750</td>\n",
              "      <td>38.422958</td>\n",
              "    </tr>\n",
              "  </tbody>\n",
              "</table>\n",
              "<p>323 rows × 2 columns</p>\n",
              "</div>\n",
              "      <button class=\"colab-df-convert\" onclick=\"convertToInteractive('df-636325b0-8957-4b59-8d00-5af52bcb044e')\"\n",
              "              title=\"Convert this dataframe to an interactive table.\"\n",
              "              style=\"display:none;\">\n",
              "        \n",
              "  <svg xmlns=\"http://www.w3.org/2000/svg\" height=\"24px\"viewBox=\"0 0 24 24\"\n",
              "       width=\"24px\">\n",
              "    <path d=\"M0 0h24v24H0V0z\" fill=\"none\"/>\n",
              "    <path d=\"M18.56 5.44l.94 2.06.94-2.06 2.06-.94-2.06-.94-.94-2.06-.94 2.06-2.06.94zm-11 1L8.5 8.5l.94-2.06 2.06-.94-2.06-.94L8.5 2.5l-.94 2.06-2.06.94zm10 10l.94 2.06.94-2.06 2.06-.94-2.06-.94-.94-2.06-.94 2.06-2.06.94z\"/><path d=\"M17.41 7.96l-1.37-1.37c-.4-.4-.92-.59-1.43-.59-.52 0-1.04.2-1.43.59L10.3 9.45l-7.72 7.72c-.78.78-.78 2.05 0 2.83L4 21.41c.39.39.9.59 1.41.59.51 0 1.02-.2 1.41-.59l7.78-7.78 2.81-2.81c.8-.78.8-2.07 0-2.86zM5.41 20L4 18.59l7.72-7.72 1.47 1.35L5.41 20z\"/>\n",
              "  </svg>\n",
              "      </button>\n",
              "      \n",
              "  <style>\n",
              "    .colab-df-container {\n",
              "      display:flex;\n",
              "      flex-wrap:wrap;\n",
              "      gap: 12px;\n",
              "    }\n",
              "\n",
              "    .colab-df-convert {\n",
              "      background-color: #E8F0FE;\n",
              "      border: none;\n",
              "      border-radius: 50%;\n",
              "      cursor: pointer;\n",
              "      display: none;\n",
              "      fill: #1967D2;\n",
              "      height: 32px;\n",
              "      padding: 0 0 0 0;\n",
              "      width: 32px;\n",
              "    }\n",
              "\n",
              "    .colab-df-convert:hover {\n",
              "      background-color: #E2EBFA;\n",
              "      box-shadow: 0px 1px 2px rgba(60, 64, 67, 0.3), 0px 1px 3px 1px rgba(60, 64, 67, 0.15);\n",
              "      fill: #174EA6;\n",
              "    }\n",
              "\n",
              "    [theme=dark] .colab-df-convert {\n",
              "      background-color: #3B4455;\n",
              "      fill: #D2E3FC;\n",
              "    }\n",
              "\n",
              "    [theme=dark] .colab-df-convert:hover {\n",
              "      background-color: #434B5C;\n",
              "      box-shadow: 0px 1px 3px 1px rgba(0, 0, 0, 0.15);\n",
              "      filter: drop-shadow(0px 1px 2px rgba(0, 0, 0, 0.3));\n",
              "      fill: #FFFFFF;\n",
              "    }\n",
              "  </style>\n",
              "\n",
              "      <script>\n",
              "        const buttonEl =\n",
              "          document.querySelector('#df-636325b0-8957-4b59-8d00-5af52bcb044e button.colab-df-convert');\n",
              "        buttonEl.style.display =\n",
              "          google.colab.kernel.accessAllowed ? 'block' : 'none';\n",
              "\n",
              "        async function convertToInteractive(key) {\n",
              "          const element = document.querySelector('#df-636325b0-8957-4b59-8d00-5af52bcb044e');\n",
              "          const dataTable =\n",
              "            await google.colab.kernel.invokeFunction('convertToInteractive',\n",
              "                                                     [key], {});\n",
              "          if (!dataTable) return;\n",
              "\n",
              "          const docLinkHtml = 'Like what you see? Visit the ' +\n",
              "            '<a target=\"_blank\" href=https://colab.research.google.com/notebooks/data_table.ipynb>data table notebook</a>'\n",
              "            + ' to learn more about interactive tables.';\n",
              "          element.innerHTML = '';\n",
              "          dataTable['output_type'] = 'display_data';\n",
              "          await google.colab.output.renderOutput(dataTable, element);\n",
              "          const docLink = document.createElement('div');\n",
              "          docLink.innerHTML = docLinkHtml;\n",
              "          element.appendChild(docLink);\n",
              "        }\n",
              "      </script>\n",
              "    </div>\n",
              "  </div>\n",
              "  "
            ]
          },
          "metadata": {},
          "execution_count": 38
        }
      ],
      "source": [
        "train = df_date[:training_data_len]\n",
        "valid = df_date[training_data_len:]\n",
        "valid[\"Predictions\"] = predictions\n",
        "valid"
      ]
    },
    {
      "cell_type": "code",
      "execution_count": null,
      "id": "9754f2ae",
      "metadata": {
        "execution": {
          "iopub.execute_input": "2022-06-12T07:52:51.565858Z",
          "iopub.status.busy": "2022-06-12T07:52:51.564846Z",
          "iopub.status.idle": "2022-06-12T07:52:51.818969Z",
          "shell.execute_reply": "2022-06-12T07:52:51.818348Z"
        },
        "papermill": {
          "duration": 0.335602,
          "end_time": "2022-06-12T07:52:51.822219",
          "exception": false,
          "start_time": "2022-06-12T07:52:51.486617",
          "status": "completed"
        },
        "tags": [],
        "id": "9754f2ae",
        "outputId": "1a43978b-0fb1-4a0b-f292-2f64a58b8ec6",
        "colab": {
          "base_uri": "https://localhost:8080/",
          "height": 490
        }
      },
      "outputs": [
        {
          "output_type": "execute_result",
          "data": {
            "text/plain": [
              "<matplotlib.legend.Legend at 0x7f9c3d8ee7d0>"
            ]
          },
          "metadata": {},
          "execution_count": 39
        },
        {
          "output_type": "display_data",
          "data": {
            "text/plain": [
              "<Figure size 1440x576 with 1 Axes>"
            ],
            "image/png": "[encoded data removed]"
          },
          "metadata": {}
        }
      ],
      "source": [
        "plt.figure(figsize=(20,8))\n",
        "plt.title(\"Model for PM2.5\")\n",
        "plt.xlabel(\"Date\", fontsize = 15)\n",
        "plt.ylabel(\"PM2.5\",fontsize=15)\n",
        "plt.plot(train[df_date.columns])\n",
        "plt.plot(valid['PM2.5'])\n",
        "plt.plot(valid[\"Predictions\"])\n",
        "plt.legend([\"Train\",\"Val\",\"Predictions\"])"
      ]
    },
    {
      "cell_type": "markdown",
      "id": "169adb3b",
      "metadata": {
        "papermill": {
          "duration": 0.077145,
          "end_time": "2022-06-12T07:52:51.976768",
          "exception": false,
          "start_time": "2022-06-12T07:52:51.899623",
          "status": "completed"
        },
        "tags": [],
        "id": "169adb3b"
      },
      "source": [
        "Thank you !"
      ]
    },
    {
      "cell_type": "markdown",
      "source": [
        "**Bidirectional LSTM**"
      ],
      "metadata": {
        "id": "OMhLNvPSLtVv"
      },
      "id": "OMhLNvPSLtVv"
    },
    {
      "cell_type": "code",
      "source": [
        "# Create BiLSTM model\n",
        "def create_model_bilstm(units):\n",
        "    model = Sequential()\n",
        "    model.add(Bidirectional(LSTM(units = units,\n",
        "              return_sequences=True),\n",
        "              input_shape=(x_train.shape[1], x_train.shape[2])))\n",
        "    model.add(Bidirectional(LSTM(units = units)))\n",
        "    model.add(Dense(1))\n",
        "    #Compile model\n",
        "    model.compile(loss='mse', optimizer='adam')\n",
        "    return model\n",
        "# Create LSTM or GRU model\n",
        "def create_model(units, m):\n",
        "    model = Sequential()\n",
        "    model.add(m (units = units, return_sequences = True,\n",
        "                input_shape = [x_train.shape[1], x_train.shape[2]]))\n",
        "    model.add(Dropout(0.2))\n",
        "    model.add(m (units = units))\n",
        "    model.add(Dropout(0.2))\n",
        "    model.add(Dense(units = 1))\n",
        "    #Compile model\n",
        "    model.compile(loss='mse', optimizer='adam')\n",
        "    return model\n",
        "# BiLSTM\n",
        "model_bilstm = create_model_bilstm(64)\n",
        "# GRU and LSTM\n",
        "model_gru = create_model(64, GRU)\n",
        "model_lstm = create_model(64, LSTM)\n"
      ],
      "metadata": {
        "id": "sGNU-jRgLsR0"
      },
      "id": "sGNU-jRgLsR0",
      "execution_count": null,
      "outputs": []
    },
    {
      "cell_type": "code",
      "source": [
        "from tensorflow import keras\n",
        "def fit_model(model):\n",
        "    early_stop = keras.callbacks.EarlyStopping(monitor = 'val_loss',\n",
        "                                               patience = 10)\n",
        "    history = model.fit(x_train, y_train, epochs = 100,\n",
        "                        validation_split = 0.2, batch_size = 32,\n",
        "                        shuffle = False, callbacks = [early_stop])\n",
        "    return history"
      ],
      "metadata": {
        "id": "NbjCABIoL8a4"
      },
      "id": "NbjCABIoL8a4",
      "execution_count": null,
      "outputs": []
    },
    {
      "cell_type": "code",
      "source": [
        "history_lstm = fit_model(model_lstm)"
      ],
      "metadata": {
        "colab": {
          "base_uri": "https://localhost:8080/"
        },
        "id": "3MC271JEP8r2",
        "outputId": "13c41db0-6990-4dde-fbb1-4e08feb0786f"
      },
      "id": "3MC271JEP8r2",
      "execution_count": null,
      "outputs": [
        {
          "output_type": "stream",
          "name": "stdout",
          "text": [
            "Epoch 1/100\n",
            "31/31 [==============================] - 9s 104ms/step - loss: 0.0403 - val_loss: 0.0153\n",
            "Epoch 2/100\n",
            "31/31 [==============================] - 2s 76ms/step - loss: 0.0101 - val_loss: 0.0103\n",
            "Epoch 3/100\n",
            "31/31 [==============================] - 2s 76ms/step - loss: 0.0080 - val_loss: 0.0079\n",
            "Epoch 4/100\n",
            "31/31 [==============================] - 2s 74ms/step - loss: 0.0082 - val_loss: 0.0098\n",
            "Epoch 5/100\n",
            "31/31 [==============================] - 2s 75ms/step - loss: 0.0074 - val_loss: 0.0081\n",
            "Epoch 6/100\n",
            "31/31 [==============================] - 2s 76ms/step - loss: 0.0082 - val_loss: 0.0132\n",
            "Epoch 7/100\n",
            "31/31 [==============================] - 2s 75ms/step - loss: 0.0071 - val_loss: 0.0072\n",
            "Epoch 8/100\n",
            "31/31 [==============================] - 2s 75ms/step - loss: 0.0068 - val_loss: 0.0072\n",
            "Epoch 9/100\n",
            "31/31 [==============================] - 2s 75ms/step - loss: 0.0062 - val_loss: 0.0069\n",
            "Epoch 10/100\n",
            "31/31 [==============================] - 2s 76ms/step - loss: 0.0066 - val_loss: 0.0075\n",
            "Epoch 11/100\n",
            "31/31 [==============================] - 2s 75ms/step - loss: 0.0060 - val_loss: 0.0067\n",
            "Epoch 12/100\n",
            "31/31 [==============================] - 2s 75ms/step - loss: 0.0066 - val_loss: 0.0098\n",
            "Epoch 13/100\n",
            "31/31 [==============================] - 2s 74ms/step - loss: 0.0074 - val_loss: 0.0075\n",
            "Epoch 14/100\n",
            "31/31 [==============================] - 3s 87ms/step - loss: 0.0065 - val_loss: 0.0084\n",
            "Epoch 15/100\n",
            "31/31 [==============================] - 3s 111ms/step - loss: 0.0064 - val_loss: 0.0064\n",
            "Epoch 16/100\n",
            "31/31 [==============================] - 2s 77ms/step - loss: 0.0058 - val_loss: 0.0073\n",
            "Epoch 17/100\n",
            "31/31 [==============================] - 2s 76ms/step - loss: 0.0063 - val_loss: 0.0070\n",
            "Epoch 18/100\n",
            "31/31 [==============================] - 2s 76ms/step - loss: 0.0061 - val_loss: 0.0078\n",
            "Epoch 19/100\n",
            "31/31 [==============================] - 2s 76ms/step - loss: 0.0060 - val_loss: 0.0064\n",
            "Epoch 20/100\n",
            "31/31 [==============================] - 2s 76ms/step - loss: 0.0058 - val_loss: 0.0079\n",
            "Epoch 21/100\n",
            "31/31 [==============================] - 2s 74ms/step - loss: 0.0059 - val_loss: 0.0059\n",
            "Epoch 22/100\n",
            "31/31 [==============================] - 2s 76ms/step - loss: 0.0051 - val_loss: 0.0063\n",
            "Epoch 23/100\n",
            "31/31 [==============================] - 3s 92ms/step - loss: 0.0052 - val_loss: 0.0057\n",
            "Epoch 24/100\n",
            "31/31 [==============================] - 3s 103ms/step - loss: 0.0052 - val_loss: 0.0054\n",
            "Epoch 25/100\n",
            "31/31 [==============================] - 4s 124ms/step - loss: 0.0048 - val_loss: 0.0053\n",
            "Epoch 26/100\n",
            "31/31 [==============================] - 4s 125ms/step - loss: 0.0051 - val_loss: 0.0056\n",
            "Epoch 27/100\n",
            "31/31 [==============================] - 3s 100ms/step - loss: 0.0046 - val_loss: 0.0053\n",
            "Epoch 28/100\n",
            "31/31 [==============================] - 3s 91ms/step - loss: 0.0051 - val_loss: 0.0059\n",
            "Epoch 29/100\n",
            "31/31 [==============================] - 4s 130ms/step - loss: 0.0051 - val_loss: 0.0054\n",
            "Epoch 30/100\n",
            "31/31 [==============================] - 5s 152ms/step - loss: 0.0051 - val_loss: 0.0067\n",
            "Epoch 31/100\n",
            "31/31 [==============================] - 4s 142ms/step - loss: 0.0051 - val_loss: 0.0049\n",
            "Epoch 32/100\n",
            "31/31 [==============================] - 5s 147ms/step - loss: 0.0048 - val_loss: 0.0063\n",
            "Epoch 33/100\n",
            "31/31 [==============================] - 5s 148ms/step - loss: 0.0055 - val_loss: 0.0056\n",
            "Epoch 34/100\n",
            "31/31 [==============================] - 5s 177ms/step - loss: 0.0048 - val_loss: 0.0065\n",
            "Epoch 35/100\n",
            "31/31 [==============================] - 5s 166ms/step - loss: 0.0046 - val_loss: 0.0045\n",
            "Epoch 36/100\n",
            "31/31 [==============================] - 5s 150ms/step - loss: 0.0043 - val_loss: 0.0045\n",
            "Epoch 37/100\n",
            "31/31 [==============================] - 4s 140ms/step - loss: 0.0042 - val_loss: 0.0044\n",
            "Epoch 38/100\n",
            "31/31 [==============================] - 3s 112ms/step - loss: 0.0043 - val_loss: 0.0048\n",
            "Epoch 39/100\n",
            "31/31 [==============================] - 4s 124ms/step - loss: 0.0038 - val_loss: 0.0042\n",
            "Epoch 40/100\n",
            "31/31 [==============================] - 4s 114ms/step - loss: 0.0039 - val_loss: 0.0050\n",
            "Epoch 41/100\n",
            "31/31 [==============================] - 2s 78ms/step - loss: 0.0040 - val_loss: 0.0043\n",
            "Epoch 42/100\n",
            "31/31 [==============================] - 2s 75ms/step - loss: 0.0041 - val_loss: 0.0047\n",
            "Epoch 43/100\n",
            "31/31 [==============================] - 2s 79ms/step - loss: 0.0043 - val_loss: 0.0048\n",
            "Epoch 44/100\n",
            "31/31 [==============================] - 2s 76ms/step - loss: 0.0045 - val_loss: 0.0054\n",
            "Epoch 45/100\n",
            "31/31 [==============================] - 4s 118ms/step - loss: 0.0043 - val_loss: 0.0044\n",
            "Epoch 46/100\n",
            "31/31 [==============================] - 4s 118ms/step - loss: 0.0044 - val_loss: 0.0058\n",
            "Epoch 47/100\n",
            "31/31 [==============================] - 4s 122ms/step - loss: 0.0041 - val_loss: 0.0040\n",
            "Epoch 48/100\n",
            "31/31 [==============================] - 3s 82ms/step - loss: 0.0044 - val_loss: 0.0055\n",
            "Epoch 49/100\n",
            "31/31 [==============================] - 2s 77ms/step - loss: 0.0041 - val_loss: 0.0038\n",
            "Epoch 50/100\n",
            "31/31 [==============================] - 2s 77ms/step - loss: 0.0037 - val_loss: 0.0042\n",
            "Epoch 51/100\n",
            "31/31 [==============================] - 2s 76ms/step - loss: 0.0039 - val_loss: 0.0037\n",
            "Epoch 52/100\n",
            "31/31 [==============================] - 2s 77ms/step - loss: 0.0036 - val_loss: 0.0045\n",
            "Epoch 53/100\n",
            "31/31 [==============================] - 2s 75ms/step - loss: 0.0037 - val_loss: 0.0034\n",
            "Epoch 54/100\n",
            "31/31 [==============================] - 2s 77ms/step - loss: 0.0037 - val_loss: 0.0041\n",
            "Epoch 55/100\n",
            "31/31 [==============================] - 2s 76ms/step - loss: 0.0036 - val_loss: 0.0036\n",
            "Epoch 56/100\n",
            "31/31 [==============================] - 2s 75ms/step - loss: 0.0036 - val_loss: 0.0045\n",
            "Epoch 57/100\n",
            "31/31 [==============================] - 2s 76ms/step - loss: 0.0035 - val_loss: 0.0033\n",
            "Epoch 58/100\n",
            "31/31 [==============================] - 2s 76ms/step - loss: 0.0034 - val_loss: 0.0037\n",
            "Epoch 59/100\n",
            "31/31 [==============================] - 2s 76ms/step - loss: 0.0032 - val_loss: 0.0031\n",
            "Epoch 60/100\n",
            "31/31 [==============================] - 2s 76ms/step - loss: 0.0031 - val_loss: 0.0032\n",
            "Epoch 61/100\n",
            "31/31 [==============================] - 2s 77ms/step - loss: 0.0035 - val_loss: 0.0031\n",
            "Epoch 62/100\n",
            "31/31 [==============================] - 2s 76ms/step - loss: 0.0036 - val_loss: 0.0034\n",
            "Epoch 63/100\n",
            "31/31 [==============================] - 2s 77ms/step - loss: 0.0030 - val_loss: 0.0030\n",
            "Epoch 64/100\n",
            "31/31 [==============================] - 2s 76ms/step - loss: 0.0032 - val_loss: 0.0032\n",
            "Epoch 65/100\n",
            "31/31 [==============================] - 2s 76ms/step - loss: 0.0034 - val_loss: 0.0031\n",
            "Epoch 66/100\n",
            "31/31 [==============================] - 2s 77ms/step - loss: 0.0034 - val_loss: 0.0043\n",
            "Epoch 67/100\n",
            "31/31 [==============================] - 2s 77ms/step - loss: 0.0035 - val_loss: 0.0038\n",
            "Epoch 68/100\n",
            "31/31 [==============================] - 2s 76ms/step - loss: 0.0043 - val_loss: 0.0058\n",
            "Epoch 69/100\n",
            "31/31 [==============================] - 2s 76ms/step - loss: 0.0041 - val_loss: 0.0031\n",
            "Epoch 70/100\n",
            "31/31 [==============================] - 2s 77ms/step - loss: 0.0035 - val_loss: 0.0038\n",
            "Epoch 71/100\n",
            "31/31 [==============================] - 2s 76ms/step - loss: 0.0031 - val_loss: 0.0028\n",
            "Epoch 72/100\n",
            "31/31 [==============================] - 5s 150ms/step - loss: 0.0033 - val_loss: 0.0037\n",
            "Epoch 73/100\n",
            "31/31 [==============================] - 3s 97ms/step - loss: 0.0031 - val_loss: 0.0029\n",
            "Epoch 74/100\n",
            "31/31 [==============================] - 2s 77ms/step - loss: 0.0034 - val_loss: 0.0036\n",
            "Epoch 75/100\n",
            "31/31 [==============================] - 2s 77ms/step - loss: 0.0031 - val_loss: 0.0026\n",
            "Epoch 76/100\n",
            "31/31 [==============================] - 2s 76ms/step - loss: 0.0029 - val_loss: 0.0029\n",
            "Epoch 77/100\n",
            "31/31 [==============================] - 2s 77ms/step - loss: 0.0028 - val_loss: 0.0026\n",
            "Epoch 78/100\n",
            "31/31 [==============================] - 2s 77ms/step - loss: 0.0031 - val_loss: 0.0026\n",
            "Epoch 79/100\n",
            "31/31 [==============================] - 2s 77ms/step - loss: 0.0029 - val_loss: 0.0027\n",
            "Epoch 80/100\n",
            "31/31 [==============================] - 2s 78ms/step - loss: 0.0028 - val_loss: 0.0027\n",
            "Epoch 81/100\n",
            "31/31 [==============================] - 2s 78ms/step - loss: 0.0028 - val_loss: 0.0029\n",
            "Epoch 82/100\n",
            "31/31 [==============================] - 2s 76ms/step - loss: 0.0030 - val_loss: 0.0036\n",
            "Epoch 83/100\n",
            "31/31 [==============================] - 2s 78ms/step - loss: 0.0030 - val_loss: 0.0027\n",
            "Epoch 84/100\n",
            "31/31 [==============================] - 2s 77ms/step - loss: 0.0030 - val_loss: 0.0032\n",
            "Epoch 85/100\n",
            "31/31 [==============================] - 2s 78ms/step - loss: 0.0029 - val_loss: 0.0026\n",
            "Epoch 86/100\n",
            "31/31 [==============================] - 2s 77ms/step - loss: 0.0028 - val_loss: 0.0028\n",
            "Epoch 87/100\n",
            "31/31 [==============================] - 2s 78ms/step - loss: 0.0030 - val_loss: 0.0025\n",
            "Epoch 88/100\n",
            "31/31 [==============================] - 2s 77ms/step - loss: 0.0030 - val_loss: 0.0036\n",
            "Epoch 89/100\n",
            "31/31 [==============================] - 2s 77ms/step - loss: 0.0031 - val_loss: 0.0026\n",
            "Epoch 90/100\n",
            "31/31 [==============================] - 2s 77ms/step - loss: 0.0028 - val_loss: 0.0033\n",
            "Epoch 91/100\n",
            "31/31 [==============================] - 2s 77ms/step - loss: 0.0031 - val_loss: 0.0025\n",
            "Epoch 92/100\n",
            "31/31 [==============================] - 2s 77ms/step - loss: 0.0027 - val_loss: 0.0025\n",
            "Epoch 93/100\n",
            "31/31 [==============================] - 2s 77ms/step - loss: 0.0029 - val_loss: 0.0027\n",
            "Epoch 94/100\n",
            "31/31 [==============================] - 2s 77ms/step - loss: 0.0028 - val_loss: 0.0025\n",
            "Epoch 95/100\n",
            "31/31 [==============================] - 2s 77ms/step - loss: 0.0029 - val_loss: 0.0031\n",
            "Epoch 96/100\n",
            "31/31 [==============================] - 2s 77ms/step - loss: 0.0027 - val_loss: 0.0025\n",
            "Epoch 97/100\n",
            "31/31 [==============================] - 2s 76ms/step - loss: 0.0027 - val_loss: 0.0025\n",
            "Epoch 98/100\n",
            "31/31 [==============================] - 2s 78ms/step - loss: 0.0029 - val_loss: 0.0035\n",
            "Epoch 99/100\n",
            "31/31 [==============================] - 2s 77ms/step - loss: 0.0031 - val_loss: 0.0030\n",
            "Epoch 100/100\n",
            "31/31 [==============================] - 2s 78ms/step - loss: 0.0036 - val_loss: 0.0043\n"
          ]
        }
      ]
    },
    {
      "cell_type": "code",
      "source": [
        "history_bilstm = fit_model(model_bilstm)\n",
        "history_gru = fit_model(model_gru)"
      ],
      "metadata": {
        "colab": {
          "base_uri": "https://localhost:8080/"
        },
        "id": "W2DI8c7iMfI3",
        "outputId": "38887ab0-c2b8-412d-d920-9095ecf3746c"
      },
      "id": "W2DI8c7iMfI3",
      "execution_count": null,
      "outputs": [
        {
          "output_type": "stream",
          "name": "stdout",
          "text": [
            "Epoch 1/100\n",
            "31/31 [==============================] - 15s 189ms/step - loss: 0.0542 - val_loss: 0.0326\n",
            "Epoch 2/100\n",
            "31/31 [==============================] - 4s 132ms/step - loss: 0.0154 - val_loss: 0.0143\n",
            "Epoch 3/100\n",
            "31/31 [==============================] - 4s 134ms/step - loss: 0.0088 - val_loss: 0.0094\n",
            "Epoch 4/100\n",
            "31/31 [==============================] - 4s 132ms/step - loss: 0.0064 - val_loss: 0.0079\n",
            "Epoch 5/100\n",
            "31/31 [==============================] - 4s 132ms/step - loss: 0.0053 - val_loss: 0.0064\n",
            "Epoch 6/100\n",
            "31/31 [==============================] - 4s 134ms/step - loss: 0.0049 - val_loss: 0.0077\n",
            "Epoch 7/100\n",
            "31/31 [==============================] - 4s 135ms/step - loss: 0.0074 - val_loss: 0.0086\n",
            "Epoch 8/100\n",
            "31/31 [==============================] - 4s 134ms/step - loss: 0.0063 - val_loss: 0.0102\n",
            "Epoch 9/100\n",
            "31/31 [==============================] - 4s 134ms/step - loss: 0.0065 - val_loss: 0.0061\n",
            "Epoch 10/100\n",
            "31/31 [==============================] - 4s 134ms/step - loss: 0.0045 - val_loss: 0.0058\n",
            "Epoch 11/100\n",
            "31/31 [==============================] - 5s 170ms/step - loss: 0.0044 - val_loss: 0.0056\n",
            "Epoch 12/100\n",
            "31/31 [==============================] - 7s 213ms/step - loss: 0.0040 - val_loss: 0.0057\n",
            "Epoch 13/100\n",
            "31/31 [==============================] - 4s 138ms/step - loss: 0.0046 - val_loss: 0.0060\n",
            "Epoch 14/100\n",
            "31/31 [==============================] - 4s 134ms/step - loss: 0.0043 - val_loss: 0.0070\n",
            "Epoch 15/100\n",
            "31/31 [==============================] - 4s 136ms/step - loss: 0.0059 - val_loss: 0.0060\n",
            "Epoch 16/100\n",
            "31/31 [==============================] - 4s 135ms/step - loss: 0.0043 - val_loss: 0.0060\n",
            "Epoch 17/100\n",
            "31/31 [==============================] - 4s 135ms/step - loss: 0.0047 - val_loss: 0.0053\n",
            "Epoch 18/100\n",
            "31/31 [==============================] - 4s 133ms/step - loss: 0.0038 - val_loss: 0.0053\n",
            "Epoch 19/100\n",
            "31/31 [==============================] - 4s 135ms/step - loss: 0.0042 - val_loss: 0.0051\n",
            "Epoch 20/100\n",
            "31/31 [==============================] - 5s 167ms/step - loss: 0.0037 - val_loss: 0.0053\n",
            "Epoch 21/100\n",
            "31/31 [==============================] - 4s 135ms/step - loss: 0.0044 - val_loss: 0.0052\n",
            "Epoch 22/100\n",
            "31/31 [==============================] - 4s 134ms/step - loss: 0.0038 - val_loss: 0.0058\n",
            "Epoch 23/100\n",
            "31/31 [==============================] - 4s 133ms/step - loss: 0.0047 - val_loss: 0.0051\n",
            "Epoch 24/100\n",
            "31/31 [==============================] - 4s 133ms/step - loss: 0.0038 - val_loss: 0.0056\n",
            "Epoch 25/100\n",
            "31/31 [==============================] - 4s 135ms/step - loss: 0.0044 - val_loss: 0.0048\n",
            "Epoch 26/100\n",
            "31/31 [==============================] - 4s 134ms/step - loss: 0.0035 - val_loss: 0.0050\n",
            "Epoch 27/100\n",
            "31/31 [==============================] - 4s 134ms/step - loss: 0.0040 - val_loss: 0.0046\n",
            "Epoch 28/100\n",
            "31/31 [==============================] - 4s 135ms/step - loss: 0.0034 - val_loss: 0.0050\n",
            "Epoch 29/100\n",
            "31/31 [==============================] - 4s 137ms/step - loss: 0.0040 - val_loss: 0.0045\n",
            "Epoch 30/100\n",
            "31/31 [==============================] - 4s 137ms/step - loss: 0.0034 - val_loss: 0.0053\n",
            "Epoch 31/100\n",
            "31/31 [==============================] - 4s 137ms/step - loss: 0.0042 - val_loss: 0.0045\n",
            "Epoch 32/100\n",
            "31/31 [==============================] - 4s 136ms/step - loss: 0.0034 - val_loss: 0.0052\n",
            "Epoch 33/100\n",
            "31/31 [==============================] - 4s 135ms/step - loss: 0.0040 - val_loss: 0.0043\n",
            "Epoch 34/100\n",
            "31/31 [==============================] - 4s 135ms/step - loss: 0.0033 - val_loss: 0.0049\n",
            "Epoch 35/100\n",
            "31/31 [==============================] - 4s 134ms/step - loss: 0.0038 - val_loss: 0.0041\n",
            "Epoch 36/100\n",
            "31/31 [==============================] - 4s 135ms/step - loss: 0.0032 - val_loss: 0.0047\n",
            "Epoch 37/100\n",
            "31/31 [==============================] - 4s 135ms/step - loss: 0.0037 - val_loss: 0.0041\n",
            "Epoch 38/100\n",
            "31/31 [==============================] - 4s 136ms/step - loss: 0.0031 - val_loss: 0.0048\n",
            "Epoch 39/100\n",
            "31/31 [==============================] - 4s 137ms/step - loss: 0.0037 - val_loss: 0.0040\n",
            "Epoch 40/100\n",
            "31/31 [==============================] - 4s 134ms/step - loss: 0.0031 - val_loss: 0.0048\n",
            "Epoch 41/100\n",
            "31/31 [==============================] - 4s 135ms/step - loss: 0.0037 - val_loss: 0.0039\n",
            "Epoch 42/100\n",
            "31/31 [==============================] - 4s 136ms/step - loss: 0.0030 - val_loss: 0.0046\n",
            "Epoch 43/100\n",
            "31/31 [==============================] - 4s 134ms/step - loss: 0.0035 - val_loss: 0.0038\n",
            "Epoch 44/100\n",
            "31/31 [==============================] - 4s 137ms/step - loss: 0.0029 - val_loss: 0.0044\n",
            "Epoch 45/100\n",
            "31/31 [==============================] - 4s 139ms/step - loss: 0.0034 - val_loss: 0.0037\n",
            "Epoch 46/100\n",
            "31/31 [==============================] - 7s 222ms/step - loss: 0.0029 - val_loss: 0.0044\n",
            "Epoch 47/100\n",
            "31/31 [==============================] - 4s 137ms/step - loss: 0.0033 - val_loss: 0.0036\n",
            "Epoch 48/100\n",
            "31/31 [==============================] - 4s 137ms/step - loss: 0.0028 - val_loss: 0.0044\n",
            "Epoch 49/100\n",
            "31/31 [==============================] - 4s 135ms/step - loss: 0.0033 - val_loss: 0.0036\n",
            "Epoch 50/100\n",
            "31/31 [==============================] - 4s 135ms/step - loss: 0.0028 - val_loss: 0.0043\n",
            "Epoch 51/100\n",
            "31/31 [==============================] - 4s 136ms/step - loss: 0.0032 - val_loss: 0.0035\n",
            "Epoch 52/100\n",
            "31/31 [==============================] - 4s 137ms/step - loss: 0.0027 - val_loss: 0.0041\n",
            "Epoch 53/100\n",
            "31/31 [==============================] - 4s 136ms/step - loss: 0.0031 - val_loss: 0.0034\n",
            "Epoch 54/100\n",
            "31/31 [==============================] - 4s 135ms/step - loss: 0.0027 - val_loss: 0.0040\n",
            "Epoch 55/100\n",
            "31/31 [==============================] - 4s 137ms/step - loss: 0.0030 - val_loss: 0.0033\n",
            "Epoch 56/100\n",
            "31/31 [==============================] - 4s 135ms/step - loss: 0.0026 - val_loss: 0.0039\n",
            "Epoch 57/100\n",
            "31/31 [==============================] - 4s 138ms/step - loss: 0.0030 - val_loss: 0.0033\n",
            "Epoch 58/100\n",
            "31/31 [==============================] - 4s 136ms/step - loss: 0.0026 - val_loss: 0.0039\n",
            "Epoch 59/100\n",
            "31/31 [==============================] - 4s 136ms/step - loss: 0.0029 - val_loss: 0.0033\n",
            "Epoch 60/100\n",
            "31/31 [==============================] - 4s 136ms/step - loss: 0.0026 - val_loss: 0.0039\n",
            "Epoch 61/100\n",
            "31/31 [==============================] - 4s 135ms/step - loss: 0.0029 - val_loss: 0.0032\n",
            "Epoch 62/100\n",
            "31/31 [==============================] - 4s 136ms/step - loss: 0.0026 - val_loss: 0.0038\n",
            "Epoch 63/100\n",
            "31/31 [==============================] - 4s 135ms/step - loss: 0.0029 - val_loss: 0.0032\n",
            "Epoch 64/100\n",
            "31/31 [==============================] - 4s 136ms/step - loss: 0.0025 - val_loss: 0.0037\n",
            "Epoch 65/100\n",
            "31/31 [==============================] - 4s 134ms/step - loss: 0.0028 - val_loss: 0.0031\n",
            "Epoch 66/100\n",
            "31/31 [==============================] - 5s 146ms/step - loss: 0.0025 - val_loss: 0.0036\n",
            "Epoch 67/100\n",
            "31/31 [==============================] - 7s 239ms/step - loss: 0.0027 - val_loss: 0.0030\n",
            "Epoch 68/100\n",
            "31/31 [==============================] - 9s 298ms/step - loss: 0.0024 - val_loss: 0.0035\n",
            "Epoch 69/100\n",
            "31/31 [==============================] - 6s 202ms/step - loss: 0.0027 - val_loss: 0.0030\n",
            "Epoch 70/100\n",
            "31/31 [==============================] - 4s 137ms/step - loss: 0.0024 - val_loss: 0.0034\n",
            "Epoch 71/100\n",
            "31/31 [==============================] - 4s 136ms/step - loss: 0.0027 - val_loss: 0.0029\n",
            "Epoch 72/100\n",
            "31/31 [==============================] - 4s 135ms/step - loss: 0.0024 - val_loss: 0.0034\n",
            "Epoch 73/100\n",
            "31/31 [==============================] - 4s 138ms/step - loss: 0.0027 - val_loss: 0.0029\n",
            "Epoch 74/100\n",
            "31/31 [==============================] - 7s 236ms/step - loss: 0.0024 - val_loss: 0.0034\n",
            "Epoch 75/100\n",
            "31/31 [==============================] - 9s 296ms/step - loss: 0.0026 - val_loss: 0.0029\n",
            "Epoch 76/100\n",
            "31/31 [==============================] - 9s 277ms/step - loss: 0.0024 - val_loss: 0.0034\n",
            "Epoch 77/100\n",
            "31/31 [==============================] - 5s 176ms/step - loss: 0.0026 - val_loss: 0.0028\n",
            "Epoch 78/100\n",
            "31/31 [==============================] - 4s 136ms/step - loss: 0.0024 - val_loss: 0.0033\n",
            "Epoch 79/100\n",
            "31/31 [==============================] - 4s 137ms/step - loss: 0.0026 - val_loss: 0.0028\n",
            "Epoch 80/100\n",
            "31/31 [==============================] - 8s 250ms/step - loss: 0.0024 - val_loss: 0.0033\n",
            "Epoch 81/100\n",
            "31/31 [==============================] - 7s 228ms/step - loss: 0.0026 - val_loss: 0.0028\n",
            "Epoch 82/100\n",
            "31/31 [==============================] - 4s 140ms/step - loss: 0.0023 - val_loss: 0.0032\n",
            "Epoch 83/100\n",
            "31/31 [==============================] - 6s 203ms/step - loss: 0.0025 - val_loss: 0.0027\n",
            "Epoch 84/100\n",
            "31/31 [==============================] - 4s 135ms/step - loss: 0.0023 - val_loss: 0.0031\n",
            "Epoch 85/100\n",
            "31/31 [==============================] - 4s 137ms/step - loss: 0.0025 - val_loss: 0.0027\n",
            "Epoch 86/100\n",
            "31/31 [==============================] - 6s 189ms/step - loss: 0.0023 - val_loss: 0.0031\n",
            "Epoch 87/100\n",
            "31/31 [==============================] - 7s 219ms/step - loss: 0.0025 - val_loss: 0.0027\n",
            "Epoch 88/100\n",
            "31/31 [==============================] - 9s 309ms/step - loss: 0.0023 - val_loss: 0.0031\n",
            "Epoch 89/100\n",
            "31/31 [==============================] - 8s 242ms/step - loss: 0.0025 - val_loss: 0.0027\n",
            "Epoch 90/100\n",
            "31/31 [==============================] - 9s 277ms/step - loss: 0.0023 - val_loss: 0.0031\n",
            "Epoch 91/100\n",
            "31/31 [==============================] - 7s 230ms/step - loss: 0.0025 - val_loss: 0.0027\n",
            "Epoch 92/100\n",
            "31/31 [==============================] - 8s 246ms/step - loss: 0.0023 - val_loss: 0.0031\n",
            "Epoch 93/100\n",
            "31/31 [==============================] - 5s 146ms/step - loss: 0.0025 - val_loss: 0.0027\n",
            "Epoch 94/100\n",
            "31/31 [==============================] - 4s 135ms/step - loss: 0.0023 - val_loss: 0.0031\n",
            "Epoch 95/100\n",
            "31/31 [==============================] - 4s 136ms/step - loss: 0.0025 - val_loss: 0.0027\n",
            "Epoch 96/100\n",
            "31/31 [==============================] - 4s 138ms/step - loss: 0.0023 - val_loss: 0.0031\n",
            "Epoch 97/100\n",
            "31/31 [==============================] - 4s 138ms/step - loss: 0.0025 - val_loss: 0.0027\n",
            "Epoch 98/100\n",
            "31/31 [==============================] - 4s 135ms/step - loss: 0.0023 - val_loss: 0.0031\n",
            "Epoch 99/100\n",
            "31/31 [==============================] - 4s 134ms/step - loss: 0.0025 - val_loss: 0.0027\n",
            "Epoch 100/100\n",
            "31/31 [==============================] - 4s 138ms/step - loss: 0.0023 - val_loss: 0.0031\n",
            "Epoch 1/100\n",
            "31/31 [==============================] - 7s 101ms/step - loss: 0.0391 - val_loss: 0.0174\n",
            "Epoch 2/100\n",
            "31/31 [==============================] - 2s 74ms/step - loss: 0.0082 - val_loss: 0.0063\n",
            "Epoch 3/100\n",
            "31/31 [==============================] - 2s 73ms/step - loss: 0.0052 - val_loss: 0.0050\n",
            "Epoch 4/100\n",
            "31/31 [==============================] - 2s 73ms/step - loss: 0.0052 - val_loss: 0.0050\n",
            "Epoch 5/100\n",
            "31/31 [==============================] - 2s 73ms/step - loss: 0.0049 - val_loss: 0.0047\n",
            "Epoch 6/100\n",
            "31/31 [==============================] - 2s 72ms/step - loss: 0.0051 - val_loss: 0.0047\n",
            "Epoch 7/100\n",
            "31/31 [==============================] - 2s 74ms/step - loss: 0.0050 - val_loss: 0.0044\n",
            "Epoch 8/100\n",
            "31/31 [==============================] - 2s 71ms/step - loss: 0.0046 - val_loss: 0.0045\n",
            "Epoch 9/100\n",
            "31/31 [==============================] - 2s 72ms/step - loss: 0.0041 - val_loss: 0.0042\n",
            "Epoch 10/100\n",
            "31/31 [==============================] - 2s 73ms/step - loss: 0.0048 - val_loss: 0.0041\n",
            "Epoch 11/100\n",
            "31/31 [==============================] - 2s 75ms/step - loss: 0.0041 - val_loss: 0.0040\n",
            "Epoch 12/100\n",
            "31/31 [==============================] - 2s 75ms/step - loss: 0.0041 - val_loss: 0.0038\n",
            "Epoch 13/100\n",
            "31/31 [==============================] - 3s 97ms/step - loss: 0.0044 - val_loss: 0.0041\n",
            "Epoch 14/100\n",
            "31/31 [==============================] - 2s 74ms/step - loss: 0.0044 - val_loss: 0.0037\n",
            "Epoch 15/100\n",
            "31/31 [==============================] - 2s 75ms/step - loss: 0.0041 - val_loss: 0.0035\n",
            "Epoch 16/100\n",
            "31/31 [==============================] - 2s 73ms/step - loss: 0.0040 - val_loss: 0.0035\n",
            "Epoch 17/100\n",
            "31/31 [==============================] - 2s 73ms/step - loss: 0.0037 - val_loss: 0.0035\n",
            "Epoch 18/100\n",
            "31/31 [==============================] - 2s 74ms/step - loss: 0.0037 - val_loss: 0.0033\n",
            "Epoch 19/100\n",
            "31/31 [==============================] - 2s 73ms/step - loss: 0.0037 - val_loss: 0.0031\n",
            "Epoch 20/100\n",
            "31/31 [==============================] - 2s 73ms/step - loss: 0.0038 - val_loss: 0.0030\n",
            "Epoch 21/100\n",
            "31/31 [==============================] - 2s 73ms/step - loss: 0.0034 - val_loss: 0.0029\n",
            "Epoch 22/100\n",
            "31/31 [==============================] - 2s 73ms/step - loss: 0.0036 - val_loss: 0.0029\n",
            "Epoch 23/100\n",
            "31/31 [==============================] - 2s 73ms/step - loss: 0.0034 - val_loss: 0.0028\n",
            "Epoch 24/100\n",
            "31/31 [==============================] - 2s 73ms/step - loss: 0.0035 - val_loss: 0.0027\n",
            "Epoch 25/100\n",
            "31/31 [==============================] - 2s 73ms/step - loss: 0.0034 - val_loss: 0.0027\n",
            "Epoch 26/100\n",
            "31/31 [==============================] - 2s 75ms/step - loss: 0.0034 - val_loss: 0.0028\n",
            "Epoch 27/100\n",
            "31/31 [==============================] - 2s 75ms/step - loss: 0.0036 - val_loss: 0.0032\n",
            "Epoch 28/100\n",
            "31/31 [==============================] - 2s 75ms/step - loss: 0.0044 - val_loss: 0.0026\n",
            "Epoch 29/100\n",
            "31/31 [==============================] - 2s 74ms/step - loss: 0.0039 - val_loss: 0.0030\n",
            "Epoch 30/100\n",
            "31/31 [==============================] - 2s 73ms/step - loss: 0.0033 - val_loss: 0.0025\n",
            "Epoch 31/100\n",
            "31/31 [==============================] - 2s 73ms/step - loss: 0.0031 - val_loss: 0.0026\n",
            "Epoch 32/100\n",
            "31/31 [==============================] - 2s 73ms/step - loss: 0.0036 - val_loss: 0.0028\n",
            "Epoch 33/100\n",
            "31/31 [==============================] - 2s 75ms/step - loss: 0.0035 - val_loss: 0.0025\n",
            "Epoch 34/100\n",
            "31/31 [==============================] - 2s 73ms/step - loss: 0.0031 - val_loss: 0.0025\n",
            "Epoch 35/100\n",
            "31/31 [==============================] - 2s 74ms/step - loss: 0.0029 - val_loss: 0.0025\n",
            "Epoch 36/100\n",
            "31/31 [==============================] - 2s 72ms/step - loss: 0.0035 - val_loss: 0.0026\n",
            "Epoch 37/100\n",
            "31/31 [==============================] - 2s 73ms/step - loss: 0.0031 - val_loss: 0.0024\n",
            "Epoch 38/100\n",
            "31/31 [==============================] - 2s 73ms/step - loss: 0.0031 - val_loss: 0.0026\n",
            "Epoch 39/100\n",
            "31/31 [==============================] - 2s 73ms/step - loss: 0.0034 - val_loss: 0.0026\n",
            "Epoch 40/100\n",
            "31/31 [==============================] - 2s 74ms/step - loss: 0.0032 - val_loss: 0.0025\n",
            "Epoch 41/100\n",
            "31/31 [==============================] - 2s 72ms/step - loss: 0.0032 - val_loss: 0.0024\n",
            "Epoch 42/100\n",
            "31/31 [==============================] - 2s 73ms/step - loss: 0.0035 - val_loss: 0.0025\n",
            "Epoch 43/100\n",
            "31/31 [==============================] - 2s 75ms/step - loss: 0.0031 - val_loss: 0.0025\n",
            "Epoch 44/100\n",
            "31/31 [==============================] - 2s 74ms/step - loss: 0.0029 - val_loss: 0.0024\n",
            "Epoch 45/100\n",
            "31/31 [==============================] - 2s 73ms/step - loss: 0.0033 - val_loss: 0.0024\n",
            "Epoch 46/100\n",
            "31/31 [==============================] - 2s 74ms/step - loss: 0.0031 - val_loss: 0.0023\n",
            "Epoch 47/100\n",
            "31/31 [==============================] - 2s 73ms/step - loss: 0.0029 - val_loss: 0.0023\n",
            "Epoch 48/100\n",
            "31/31 [==============================] - 2s 74ms/step - loss: 0.0031 - val_loss: 0.0025\n",
            "Epoch 49/100\n",
            "31/31 [==============================] - 2s 74ms/step - loss: 0.0031 - val_loss: 0.0025\n",
            "Epoch 50/100\n",
            "31/31 [==============================] - 2s 75ms/step - loss: 0.0032 - val_loss: 0.0025\n",
            "Epoch 51/100\n",
            "31/31 [==============================] - 2s 74ms/step - loss: 0.0031 - val_loss: 0.0025\n",
            "Epoch 52/100\n",
            "31/31 [==============================] - 2s 74ms/step - loss: 0.0032 - val_loss: 0.0025\n",
            "Epoch 53/100\n",
            "31/31 [==============================] - 2s 76ms/step - loss: 0.0035 - val_loss: 0.0024\n",
            "Epoch 54/100\n",
            "31/31 [==============================] - 3s 87ms/step - loss: 0.0031 - val_loss: 0.0023\n",
            "Epoch 55/100\n",
            "31/31 [==============================] - 2s 75ms/step - loss: 0.0028 - val_loss: 0.0023\n",
            "Epoch 56/100\n",
            "31/31 [==============================] - 2s 73ms/step - loss: 0.0027 - val_loss: 0.0025\n"
          ]
        }
      ]
    },
    {
      "cell_type": "code",
      "source": [
        "def prediction(model):\n",
        "    prediction = model.predict(x_test)\n",
        "    prediction = sc.inverse_transform(prediction)\n",
        "    return prediction\n",
        "prediction_bilstm = prediction(model_bilstm)\n",
        "prediction_gru = prediction(model_gru)"
      ],
      "metadata": {
        "id": "7MeNTNTbMuIC"
      },
      "id": "7MeNTNTbMuIC",
      "execution_count": null,
      "outputs": []
    },
    {
      "cell_type": "code",
      "source": [
        "prediction_lstm = prediction(model_lstm)"
      ],
      "metadata": {
        "id": "5D9tcxSGQRhF"
      },
      "id": "5D9tcxSGQRhF",
      "execution_count": null,
      "outputs": []
    },
    {
      "cell_type": "code",
      "source": [
        "def evaluate_prediction(predictions, actual, model_name):\n",
        "    errors = predictions - actual\n",
        "    mse = np.square(errors).mean()\n",
        "    rmse = np.sqrt(mse)\n",
        "    mae = np.abs(errors).mean()\n",
        "    print(model_name + ':')\n",
        "    print('Mean Absolute Error: {:.4f}'.format(mae))\n",
        "    print('Root Mean Square Error: {:.4f}'.format(rmse))\n",
        "    print('')\n",
        "evaluate_prediction(prediction_bilstm, y_test, 'Bidirectional LSTM')\n",
        "evaluate_prediction(prediction_gru, y_test, 'GRU')"
      ],
      "metadata": {
        "colab": {
          "base_uri": "https://localhost:8080/"
        },
        "id": "bQp49xl0OABW",
        "outputId": "d5df3ab0-7922-4e3d-ca6c-fc7d4b34334b"
      },
      "id": "bQp49xl0OABW",
      "execution_count": null,
      "outputs": [
        {
          "output_type": "stream",
          "name": "stdout",
          "text": [
            "Bidirectional LSTM:\n",
            "Mean Absolute Error: 3.5954\n",
            "Root Mean Square Error: 5.2144\n",
            "\n",
            "GRU:\n",
            "Mean Absolute Error: 3.2352\n",
            "Root Mean Square Error: 4.9699\n",
            "\n"
          ]
        }
      ]
    },
    {
      "cell_type": "code",
      "source": [
        "evaluate_prediction(prediction_lstm, y_test, 'LSTM')"
      ],
      "metadata": {
        "colab": {
          "base_uri": "https://localhost:8080/"
        },
        "id": "gKGM7FXiQaKt",
        "outputId": "c469a6d0-159f-4c16-90d3-5a6f6088ef72"
      },
      "id": "gKGM7FXiQaKt",
      "execution_count": null,
      "outputs": [
        {
          "output_type": "stream",
          "name": "stdout",
          "text": [
            "LSTM:\n",
            "Mean Absolute Error: 4.3820\n",
            "Root Mean Square Error: 6.0394\n",
            "\n"
          ]
        }
      ]
    },
    {
      "cell_type": "code",
      "source": [
        "import sklearn.metrics\n",
        "print(\"Bidirectional\")\n",
        "print(sklearn.metrics.r2_score(y_test, prediction_bilstm))\n",
        "print(\"GRU\")\n",
        "sklearn.metrics.r2_score(y_test, prediction_gru)"
      ],
      "metadata": {
        "colab": {
          "base_uri": "https://localhost:8080/"
        },
        "id": "slxn3cNWOLZ-",
        "outputId": "a06cb74c-1704-46a0-fbed-680b2678cce8"
      },
      "id": "slxn3cNWOLZ-",
      "execution_count": null,
      "outputs": [
        {
          "output_type": "stream",
          "name": "stdout",
          "text": [
            "Bidirectional\n",
            "0.9195233318350249\n",
            "GRU\n"
          ]
        },
        {
          "output_type": "execute_result",
          "data": {
            "text/plain": [
              "0.9268916187987415"
            ]
          },
          "metadata": {},
          "execution_count": 49
        }
      ]
    },
    {
      "cell_type": "code",
      "source": [
        "print(\"LSTM\")\n",
        "sklearn.metrics.r2_score(y_test, prediction_lstm)"
      ],
      "metadata": {
        "colab": {
          "base_uri": "https://localhost:8080/"
        },
        "id": "gmJwVU-cPike",
        "outputId": "59b0c033-2cd9-4671-8fbb-b6111cb50e83"
      },
      "id": "gmJwVU-cPike",
      "execution_count": null,
      "outputs": [
        {
          "output_type": "stream",
          "name": "stdout",
          "text": [
            "LSTM\n"
          ]
        },
        {
          "output_type": "execute_result",
          "data": {
            "text/plain": [
              "0.8920423050867599"
            ]
          },
          "metadata": {},
          "execution_count": 53
        }
      ]
    },
    {
      "cell_type": "code",
      "source": [],
      "metadata": {
        "id": "CaLodNT8QmC7"
      },
      "id": "CaLodNT8QmC7",
      "execution_count": null,
      "outputs": []
    }
  ],
  "metadata": {
    "kernelspec": {
      "display_name": "Python 3",
      "language": "python",
      "name": "python3"
    },
    "language_info": {
      "codemirror_mode": {
        "name": "ipython",
        "version": 3
      },
      "file_extension": ".py",
      "mimetype": "text/x-python",
      "name": "python",
      "nbconvert_exporter": "python",
      "pygments_lexer": "ipython3",
      "version": "3.7.12"
    },
    "papermill": {
      "default_parameters": {},
      "duration": 70.510479,
      "end_time": "2022-06-12T07:52:55.537370",
      "environment_variables": {},
      "exception": null,
      "input_path": "__notebook__.ipynb",
      "output_path": "__notebook__.ipynb",
      "parameters": {},
      "start_time": "2022-06-12T07:51:45.026891",
      "version": "2.3.4"
    },
    "colab": {
      "provenance": []
    }
  },
  "nbformat": 4,
  "nbformat_minor": 5
}